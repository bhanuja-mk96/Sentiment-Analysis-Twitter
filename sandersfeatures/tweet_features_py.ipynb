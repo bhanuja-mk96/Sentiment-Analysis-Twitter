{
  "nbformat": 4,
  "nbformat_minor": 0,
  "metadata": {
    "colab": {
      "name": "tweet_features.py",
      "version": "0.3.2",
      "provenance": [],
      "include_colab_link": true
    },
    "kernelspec": {
      "name": "python3",
      "display_name": "Python 3"
    }
  },
  "cells": [
    {
      "cell_type": "markdown",
      "metadata": {
        "id": "view-in-github",
        "colab_type": "text"
      },
      "source": [
        "<a href=\"https://colab.research.google.com/github/bhanuja-mk96/Sentiment-Analysis-Twitter/blob/master/tweet_features_py.ipynb\" target=\"_parent\"><img src=\"https://colab.research.google.com/assets/colab-badge.svg\" alt=\"Open In Colab\"/></a>"
      ]
    },
    {
      "metadata": {
        "id": "Dn-UUtGdwsKg",
        "colab_type": "code",
        "colab": {}
      },
      "cell_type": "code",
      "source": [
        "\"\"\"\n",
        "@package tweet_features\n",
        "Convert tweet to feature vector.\n",
        "These routines help convert arbitrary tweets in to feature vectors.\n",
        "\"\"\"\n",
        "import numpy\n",
        "\n"
      ],
      "execution_count": 0,
      "outputs": []
    },
    {
      "metadata": {
        "id": "ebnXhELNxLls",
        "colab_type": "code",
        "colab": {}
      },
      "cell_type": "code",
      "source": [
        "# search patterns for features\n",
        "testFeatures = \\\n",
        "    [('hasAddict',     (' addict',)), \\\n",
        "     ('hasAwesome',    ('awesome',)), \\\n",
        "     ('hasBroken',     ('broke',)), \\\n",
        "     ('hasBad',        (' bad',)), \\\n",
        "     ('hasBug',        (' bug',)), \\\n",
        "     ('hasCant',       ('cant','can\\'t')), \\\n",
        "     ('hasCrash',      ('crash',)), \\\n",
        "     ('hasCool',       ('cool',)), \\\n",
        "     ('hasDifficult',  ('difficult',)), \\\n",
        "     ('hasDisaster',   ('disaster',)), \\\n",
        "     ('hasDown',       (' down',)), \\\n",
        "     ('hasDont',       ('dont','don\\'t','do not','does not','doesn\\'t')), \\\n",
        "     ('hasEasy',       (' easy',)), \\\n",
        "     ('hasExclaim',    ('!',)), \\\n",
        "     ('hasExcite',     (' excite',)), \\\n",
        "     ('hasExpense',    ('expense','expensive')), \\\n",
        "     ('hasFail',       (' fail',)), \\\n",
        "     ('hasFast',       (' fast',)), \\\n",
        "     ('hasFix',        (' fix',)), \\\n",
        "     ('hasFree',       (' free',)), \\\n",
        "     ('hasFrowny',     (':(', '):')), \\\n",
        "     ('hasFuck',       ('fuck',)), \\\n",
        "     ('hasGood',       ('good','great')), \\\n",
        "     ('hasHappy',      (' happy',' happi')), \\\n",
        "     ('hasHate',       ('hate',)), \\\n",
        "     ('hasHeart',      ('heart', '<3')), \\\n",
        "     ('hasIssue',      (' issue',)), \\\n",
        "     ('hasIncredible', ('incredible',)), \\\n",
        "     ('hasInterest',   ('interest',)), \\\n",
        "     ('hasLike',       (' like',)), \\\n",
        "     ('hasLol',        (' lol',)), \\\n",
        "     ('hasLove',       ('love','loving')), \\\n",
        "     ('hasLose',       (' lose',)), \\\n",
        "     ('hasNeat',       ('neat',)), \\\n",
        "     ('hasNever',      (' never',)), \\\n",
        "     ('hasNice',       (' nice',)), \\\n",
        "     ('hasPoor',       ('poor',)), \\\n",
        "     ('hasPerfect',    ('perfect',)), \\\n",
        "     ('hasPlease',     ('please',)), \\\n",
        "     ('hasSerious',    ('serious',)), \\\n",
        "     ('hasShit',       ('shit',)), \\\n",
        "     ('hasSlow',       (' slow',)), \\\n",
        "     ('hasSmiley',     (':)', ':D', '(:')), \\\n",
        "     ('hasSuck',       ('suck',)), \\\n",
        "     ('hasTerrible',   ('terrible',)), \\\n",
        "     ('hasThanks',     ('thank',)), \\\n",
        "     ('hasTrouble',    ('trouble',)), \\\n",
        "     ('hasUnhappy',    ('unhapp',)), \\\n",
        "     ('hasWin',        (' win ','winner','winning')), \\\n",
        "     ('hasWinky',      (';)',)), \\\n",
        "('hasWow', ('wow','omg')) ]"
      ],
      "execution_count": 0,
      "outputs": []
    },
    {
      "metadata": {
        "id": "ulTq4z2mxSR4",
        "colab_type": "code",
        "colab": {}
      },
      "cell_type": "code",
      "source": [
        "def make_tweet_nparr( txt ):\n",
        "    \"\"\"\n",
        "    Extract tweet feature vector as NumPy array.\n",
        "    \"\"\"\n",
        "    # result storage\n",
        "    fvec = numpy.empty( len(testFeatures) )\n",
        "\n",
        "    # search for each feature\n",
        "    txtLow = ' ' + txt.lower() + ' '\n",
        "    for i in range( 0, len(testFeatures) ):\n",
        "\n",
        "        key = testFeatures[i][0]\n",
        "\n",
        "        fvec[i] = False\n",
        "        for tstr in testFeatures[i][1]:\n",
        "            fvec[i] = fvec[i] or (txtLow.find(tstr) != -1)\n",
        "\n",
        "    return fvec\n",
        "\n"
      ],
      "execution_count": 0,
      "outputs": []
    },
    {
      "metadata": {
        "id": "BtxnWWuAxWjS",
        "colab_type": "code",
        "colab": {}
      },
      "cell_type": "code",
      "source": [
        "def make_tweet_dict( txt ):\n",
        "    \"\"\"\n",
        "    Extract tweet feature vector as dictionary.\n",
        "    \"\"\"\n",
        "    txtLow = ' ' + txt.lower() + ' '\n",
        "\n",
        "    # result storage\n",
        "    fvec = {}\n",
        "\n",
        "    # search for each feature\n",
        "    for test in testFeatures:\n",
        "\n",
        "        key = test[0]\n",
        "\n",
        "        fvec[key] = False;\n",
        "        for tstr in test[1]:\n",
        "            fvec[key] = fvec[key] or (txtLow.find(tstr) != -1)\n",
        "\n",
        "    return fvec\n",
        "\n"
      ],
      "execution_count": 0,
      "outputs": []
    },
    {
      "metadata": {
        "id": "d-Hz22HbxaoG",
        "colab_type": "code",
        "colab": {}
      },
      "cell_type": "code",
      "source": [
        "def tweet_dict_to_nparr( dict ):\n",
        "    \"\"\"\n",
        "    Convert dictionary feature vector to numpy array\n",
        "    \"\"\"\n",
        "    fvec = numpy.empty( len(testFeatures) )\n",
        "\n",
        "    for i in range( 0, len(testFeatures) ):\n",
        "        fvec[i] = dict[ testFeatures[i][0] ]\n",
        "\n",
        "    return fvec"
      ],
      "execution_count": 0,
      "outputs": []
    },
    {
      "metadata": {
        "id": "a-Crxrtrxsho",
        "colab_type": "code",
        "colab": {}
      },
      "cell_type": "code",
      "source": [
        "def tweet_nparr_to_dict( nparr, use_standard_features=False ):\n",
        "    \"\"\"\n",
        "    Convert NumPy array to dictionary\n",
        "    \"\"\"\n",
        "    fvec = {}\n",
        "\n",
        "    if use_standard_features:\n",
        "        assert len(nparr) == len(testFeatures)\n",
        "        fvec = {}\n",
        "        for i in range( 0, len(nparr) ):\n",
        "            fvec[ testFeatures[i][0] ] = nparr[i]\n",
        "\n",
        "    else:\n",
        "        for i in range( 0, len(nparr) ):\n",
        "            fvec[ str(i) ] = nparr[i]\n",
        "\n",
        "    return fvec\n",
        "\n"
      ],
      "execution_count": 0,
      "outputs": []
    },
    {
      "metadata": {
        "id": "qMOy1PhIx1IK",
        "colab_type": "code",
        "colab": {}
      },
      "cell_type": "code",
      "source": [
        "def is_zero_dict( dict ):\n",
        "    \"\"\"\n",
        "    Identifies empty feature vectors\n",
        "    \"\"\"\n",
        "    has_any_features = False\n",
        "    for key in dict:\n",
        "        has_any_features = has_any_features or dict[key]\n",
        "\n",
        "    return not has_any_features"
      ],
      "execution_count": 0,
      "outputs": []
    }
  ]
}
