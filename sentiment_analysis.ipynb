{
  "nbformat": 4,
  "nbformat_minor": 0,
  "metadata": {
    "colab": {
      "name": "sentiment_analysis.ipynb",
      "version": "0.3.2",
      "provenance": [],
      "collapsed_sections": [],
      "include_colab_link": true
    },
    "kernelspec": {
      "name": "python3",
      "display_name": "Python 3"
    }
  },
  "cells": [
    {
      "cell_type": "markdown",
      "metadata": {
        "id": "view-in-github",
        "colab_type": "text"
      },
      "source": [
        "<a href=\"https://colab.research.google.com/github/bhanuja-mk96/Sentiment-Analysis-Twitter/blob/master/sentiment_analysis.ipynb\" target=\"_parent\"><img src=\"https://colab.research.google.com/assets/colab-badge.svg\" alt=\"Open In Colab\"/></a>"
      ]
    },
    {
      "cell_type": "code",
      "metadata": {
        "id": "ZZ_py6B-8Wx-",
        "colab_type": "code",
        "colab": {}
      },
      "source": [
        "import pandas as pd  \n",
        "import numpy as np\n",
        "import matplotlib.pyplot as plt\n",
        "plt.style.use('fivethirtyeight')\n",
        "\n",
        "%matplotlib inline\n",
        "%config InlineBackend.figure_format = 'retina'"
      ],
      "execution_count": 0,
      "outputs": []
    },
    {
      "cell_type": "code",
      "metadata": {
        "id": "2CgFGuVp8wF0",
        "colab_type": "code",
        "colab": {}
      },
      "source": [
        "cols = ['sentiment','id','date','query_string','user','text']\n"
      ],
      "execution_count": 0,
      "outputs": []
    },
    {
      "cell_type": "markdown",
      "metadata": {
        "id": "lRZ4dT-3dOKa",
        "colab_type": "text"
      },
      "source": [
        "# **Loading Data From Drive**"
      ]
    },
    {
      "cell_type": "code",
      "metadata": {
        "id": "VlrfpHSpZPmq",
        "colab_type": "code",
        "outputId": "11201ef7-4cd9-4ace-c1d8-3b655df3fa9d",
        "colab": {
          "base_uri": "https://localhost:8080/",
          "height": 124
        }
      },
      "source": [
        "from google.colab import drive\n",
        "drive.mount('/content/drive')"
      ],
      "execution_count": 0,
      "outputs": [
        {
          "output_type": "stream",
          "text": [
            "Go to this URL in a browser: https://accounts.google.com/o/oauth2/auth?client_id=947318989803-6bn6qk8qdgf4n4g3pfee6491hc0brc4i.apps.googleusercontent.com&redirect_uri=urn%3Aietf%3Awg%3Aoauth%3A2.0%3Aoob&scope=email%20https%3A%2F%2Fwww.googleapis.com%2Fauth%2Fdocs.test%20https%3A%2F%2Fwww.googleapis.com%2Fauth%2Fdrive%20https%3A%2F%2Fwww.googleapis.com%2Fauth%2Fdrive.photos.readonly%20https%3A%2F%2Fwww.googleapis.com%2Fauth%2Fpeopleapi.readonly&response_type=code\n",
            "\n",
            "Enter your authorization code:\n",
            "··········\n",
            "Mounted at /content/drive\n"
          ],
          "name": "stdout"
        }
      ]
    },
    {
      "cell_type": "code",
      "metadata": {
        "id": "J9mpBlGWcqUW",
        "colab_type": "code",
        "outputId": "80278fdf-bffa-4f0d-f8c2-2e5e66bbc48b",
        "colab": {
          "base_uri": "https://localhost:8080/",
          "height": 52
        }
      },
      "source": [
        "!pip install -U -q PyDrive\n",
        "from pydrive.auth import GoogleAuth\n",
        "from pydrive.drive import GoogleDrive\n",
        "from google.colab import auth\n",
        "from oauth2client.client import GoogleCredentials"
      ],
      "execution_count": 0,
      "outputs": [
        {
          "output_type": "stream",
          "text": [
            "\u001b[?25l\r\u001b[K     |▎                               | 10kB 19.4MB/s eta 0:00:01\r\u001b[K     |▋                               | 20kB 3.4MB/s eta 0:00:01\r\u001b[K     |█                               | 30kB 4.9MB/s eta 0:00:01\r\u001b[K     |█▎                              | 40kB 3.1MB/s eta 0:00:01\r\u001b[K     |█▋                              | 51kB 3.8MB/s eta 0:00:01\r\u001b[K     |██                              | 61kB 4.5MB/s eta 0:00:01\r\u001b[K     |██▎                             | 71kB 5.2MB/s eta 0:00:01\r\u001b[K     |██▋                             | 81kB 5.9MB/s eta 0:00:01\r\u001b[K     |███                             | 92kB 6.5MB/s eta 0:00:01\r\u001b[K     |███▎                            | 102kB 5.0MB/s eta 0:00:01\r\u001b[K     |███▋                            | 112kB 5.0MB/s eta 0:00:01\r\u001b[K     |████                            | 122kB 5.0MB/s eta 0:00:01\r\u001b[K     |████▎                           | 133kB 5.0MB/s eta 0:00:01\r\u001b[K     |████▋                           | 143kB 5.0MB/s eta 0:00:01\r\u001b[K     |█████                           | 153kB 5.0MB/s eta 0:00:01\r\u001b[K     |█████▎                          | 163kB 5.0MB/s eta 0:00:01\r\u001b[K     |█████▋                          | 174kB 5.0MB/s eta 0:00:01\r\u001b[K     |██████                          | 184kB 5.0MB/s eta 0:00:01\r\u001b[K     |██████▎                         | 194kB 5.0MB/s eta 0:00:01\r\u001b[K     |██████▋                         | 204kB 5.0MB/s eta 0:00:01\r\u001b[K     |███████                         | 215kB 5.0MB/s eta 0:00:01\r\u001b[K     |███████▎                        | 225kB 5.0MB/s eta 0:00:01\r\u001b[K     |███████▋                        | 235kB 5.0MB/s eta 0:00:01\r\u001b[K     |████████                        | 245kB 5.0MB/s eta 0:00:01\r\u001b[K     |████████▎                       | 256kB 5.0MB/s eta 0:00:01\r\u001b[K     |████████▋                       | 266kB 5.0MB/s eta 0:00:01\r\u001b[K     |█████████                       | 276kB 5.0MB/s eta 0:00:01\r\u001b[K     |█████████▎                      | 286kB 5.0MB/s eta 0:00:01\r\u001b[K     |█████████▋                      | 296kB 5.0MB/s eta 0:00:01\r\u001b[K     |██████████                      | 307kB 5.0MB/s eta 0:00:01\r\u001b[K     |██████████▎                     | 317kB 5.0MB/s eta 0:00:01\r\u001b[K     |██████████▋                     | 327kB 5.0MB/s eta 0:00:01\r\u001b[K     |███████████                     | 337kB 5.0MB/s eta 0:00:01\r\u001b[K     |███████████▎                    | 348kB 5.0MB/s eta 0:00:01\r\u001b[K     |███████████▋                    | 358kB 5.0MB/s eta 0:00:01\r\u001b[K     |████████████                    | 368kB 5.0MB/s eta 0:00:01\r\u001b[K     |████████████▎                   | 378kB 5.0MB/s eta 0:00:01\r\u001b[K     |████████████▋                   | 389kB 5.0MB/s eta 0:00:01\r\u001b[K     |█████████████                   | 399kB 5.0MB/s eta 0:00:01\r\u001b[K     |█████████████▎                  | 409kB 5.0MB/s eta 0:00:01\r\u001b[K     |█████████████▋                  | 419kB 5.0MB/s eta 0:00:01\r\u001b[K     |██████████████                  | 430kB 5.0MB/s eta 0:00:01\r\u001b[K     |██████████████▎                 | 440kB 5.0MB/s eta 0:00:01\r\u001b[K     |██████████████▋                 | 450kB 5.0MB/s eta 0:00:01\r\u001b[K     |███████████████                 | 460kB 5.0MB/s eta 0:00:01\r\u001b[K     |███████████████▎                | 471kB 5.0MB/s eta 0:00:01\r\u001b[K     |███████████████▋                | 481kB 5.0MB/s eta 0:00:01\r\u001b[K     |████████████████                | 491kB 5.0MB/s eta 0:00:01\r\u001b[K     |████████████████▎               | 501kB 5.0MB/s eta 0:00:01\r\u001b[K     |████████████████▋               | 512kB 5.0MB/s eta 0:00:01\r\u001b[K     |█████████████████               | 522kB 5.0MB/s eta 0:00:01\r\u001b[K     |█████████████████▎              | 532kB 5.0MB/s eta 0:00:01\r\u001b[K     |█████████████████▋              | 542kB 5.0MB/s eta 0:00:01\r\u001b[K     |██████████████████              | 552kB 5.0MB/s eta 0:00:01\r\u001b[K     |██████████████████▎             | 563kB 5.0MB/s eta 0:00:01\r\u001b[K     |██████████████████▋             | 573kB 5.0MB/s eta 0:00:01\r\u001b[K     |███████████████████             | 583kB 5.0MB/s eta 0:00:01\r\u001b[K     |███████████████████▎            | 593kB 5.0MB/s eta 0:00:01\r\u001b[K     |███████████████████▋            | 604kB 5.0MB/s eta 0:00:01\r\u001b[K     |████████████████████            | 614kB 5.0MB/s eta 0:00:01\r\u001b[K     |████████████████████▎           | 624kB 5.0MB/s eta 0:00:01\r\u001b[K     |████████████████████▋           | 634kB 5.0MB/s eta 0:00:01\r\u001b[K     |█████████████████████           | 645kB 5.0MB/s eta 0:00:01\r\u001b[K     |█████████████████████▎          | 655kB 5.0MB/s eta 0:00:01\r\u001b[K     |█████████████████████▋          | 665kB 5.0MB/s eta 0:00:01\r\u001b[K     |██████████████████████          | 675kB 5.0MB/s eta 0:00:01\r\u001b[K     |██████████████████████▎         | 686kB 5.0MB/s eta 0:00:01\r\u001b[K     |██████████████████████▋         | 696kB 5.0MB/s eta 0:00:01\r\u001b[K     |███████████████████████         | 706kB 5.0MB/s eta 0:00:01\r\u001b[K     |███████████████████████▎        | 716kB 5.0MB/s eta 0:00:01\r\u001b[K     |███████████████████████▋        | 727kB 5.0MB/s eta 0:00:01\r\u001b[K     |████████████████████████        | 737kB 5.0MB/s eta 0:00:01\r\u001b[K     |████████████████████████▎       | 747kB 5.0MB/s eta 0:00:01\r\u001b[K     |████████████████████████▋       | 757kB 5.0MB/s eta 0:00:01\r\u001b[K     |████████████████████████▉       | 768kB 5.0MB/s eta 0:00:01\r\u001b[K     |█████████████████████████▏      | 778kB 5.0MB/s eta 0:00:01\r\u001b[K     |█████████████████████████▌      | 788kB 5.0MB/s eta 0:00:01\r\u001b[K     |█████████████████████████▉      | 798kB 5.0MB/s eta 0:00:01\r\u001b[K     |██████████████████████████▏     | 808kB 5.0MB/s eta 0:00:01\r\u001b[K     |██████████████████████████▌     | 819kB 5.0MB/s eta 0:00:01\r\u001b[K     |██████████████████████████▉     | 829kB 5.0MB/s eta 0:00:01\r\u001b[K     |███████████████████████████▏    | 839kB 5.0MB/s eta 0:00:01\r\u001b[K     |███████████████████████████▌    | 849kB 5.0MB/s eta 0:00:01\r\u001b[K     |███████████████████████████▉    | 860kB 5.0MB/s eta 0:00:01\r\u001b[K     |████████████████████████████▏   | 870kB 5.0MB/s eta 0:00:01\r\u001b[K     |████████████████████████████▌   | 880kB 5.0MB/s eta 0:00:01\r\u001b[K     |████████████████████████████▉   | 890kB 5.0MB/s eta 0:00:01\r\u001b[K     |█████████████████████████████▏  | 901kB 5.0MB/s eta 0:00:01\r\u001b[K     |█████████████████████████████▌  | 911kB 5.0MB/s eta 0:00:01\r\u001b[K     |█████████████████████████████▉  | 921kB 5.0MB/s eta 0:00:01\r\u001b[K     |██████████████████████████████▏ | 931kB 5.0MB/s eta 0:00:01\r\u001b[K     |██████████████████████████████▌ | 942kB 5.0MB/s eta 0:00:01\r\u001b[K     |██████████████████████████████▉ | 952kB 5.0MB/s eta 0:00:01\r\u001b[K     |███████████████████████████████▏| 962kB 5.0MB/s eta 0:00:01\r\u001b[K     |███████████████████████████████▌| 972kB 5.0MB/s eta 0:00:01\r\u001b[K     |███████████████████████████████▉| 983kB 5.0MB/s eta 0:00:01\r\u001b[K     |████████████████████████████████| 993kB 5.0MB/s \n",
            "\u001b[?25h  Building wheel for PyDrive (setup.py) ... \u001b[?25l\u001b[?25hdone\n"
          ],
          "name": "stdout"
        }
      ]
    },
    {
      "cell_type": "code",
      "metadata": {
        "id": "-WPtQgftc6ci",
        "colab_type": "code",
        "colab": {}
      },
      "source": [
        "auth.authenticate_user()\n",
        "gauth = GoogleAuth()\n",
        "gauth.credentials = GoogleCredentials.get_application_default()\n",
        "drive = GoogleDrive(gauth)"
      ],
      "execution_count": 0,
      "outputs": []
    },
    {
      "cell_type": "code",
      "metadata": {
        "id": "pUaDOL438zzq",
        "colab_type": "code",
        "outputId": "878f0eba-ed13-4c11-97b1-e3ea1e647cd3",
        "colab": {
          "base_uri": "https://localhost:8080/",
          "height": 34
        }
      },
      "source": [
        "link = \"https://drive.google.com/open?id=1LDgwZL1f8DfqMslsG08ZGaole17H6AHI\"\n",
        "fluff, id = link.split('=')\n",
        "print (id)"
      ],
      "execution_count": 0,
      "outputs": [
        {
          "output_type": "stream",
          "text": [
            "1LDgwZL1f8DfqMslsG08ZGaole17H6AHI\n"
          ],
          "name": "stdout"
        }
      ]
    },
    {
      "cell_type": "code",
      "metadata": {
        "id": "TF6W6usPdqgw",
        "colab_type": "code",
        "colab": {}
      },
      "source": [
        "downloaded = drive.CreateFile({'id':id}) \n",
        "downloaded.GetContentFile('training.csv')  "
      ],
      "execution_count": 0,
      "outputs": []
    },
    {
      "cell_type": "code",
      "metadata": {
        "id": "zNi3USHXdmDt",
        "colab_type": "code",
        "outputId": "24f7a430-8f78-4886-a0fc-926407c65afc",
        "colab": {
          "base_uri": "https://localhost:8080/",
          "height": 169
        }
      },
      "source": [
        "df = pd.read_csv(\"training.csv\",header = None, names = cols, encoding='latin-1')"
      ],
      "execution_count": 0,
      "outputs": [
        {
          "output_type": "error",
          "ename": "NameError",
          "evalue": "ignored",
          "traceback": [
            "\u001b[0;31m---------------------------------------------------------------------------\u001b[0m",
            "\u001b[0;31mNameError\u001b[0m                                 Traceback (most recent call last)",
            "\u001b[0;32m<ipython-input-14-fe673be966b4>\u001b[0m in \u001b[0;36m<module>\u001b[0;34m()\u001b[0m\n\u001b[0;32m----> 1\u001b[0;31m \u001b[0mdf\u001b[0m \u001b[0;34m=\u001b[0m \u001b[0mpd\u001b[0m\u001b[0;34m.\u001b[0m\u001b[0mread_csv\u001b[0m\u001b[0;34m(\u001b[0m\u001b[0;34m\"training.csv\"\u001b[0m\u001b[0;34m,\u001b[0m\u001b[0mheader\u001b[0m \u001b[0;34m=\u001b[0m \u001b[0;32mNone\u001b[0m\u001b[0;34m,\u001b[0m \u001b[0mnames\u001b[0m \u001b[0;34m=\u001b[0m \u001b[0mcols\u001b[0m\u001b[0;34m,\u001b[0m \u001b[0mencoding\u001b[0m\u001b[0;34m=\u001b[0m\u001b[0;34m'latin-1'\u001b[0m\u001b[0;34m)\u001b[0m\u001b[0;34m\u001b[0m\u001b[0;34m\u001b[0m\u001b[0m\n\u001b[0m",
            "\u001b[0;31mNameError\u001b[0m: name 'cols' is not defined"
          ]
        }
      ]
    },
    {
      "cell_type": "markdown",
      "metadata": {
        "id": "TD-lnbYPfDRD",
        "colab_type": "text"
      },
      "source": [
        "# Summarizing Data"
      ]
    },
    {
      "cell_type": "code",
      "metadata": {
        "id": "YulEPNruR0kI",
        "colab_type": "code",
        "outputId": "547e4e90-63cc-40c1-c839-59b5d68dd776",
        "colab": {
          "base_uri": "https://localhost:8080/",
          "height": 204
        }
      },
      "source": [
        "df.head()"
      ],
      "execution_count": 0,
      "outputs": [
        {
          "output_type": "execute_result",
          "data": {
            "text/html": [
              "<div>\n",
              "<style scoped>\n",
              "    .dataframe tbody tr th:only-of-type {\n",
              "        vertical-align: middle;\n",
              "    }\n",
              "\n",
              "    .dataframe tbody tr th {\n",
              "        vertical-align: top;\n",
              "    }\n",
              "\n",
              "    .dataframe thead th {\n",
              "        text-align: right;\n",
              "    }\n",
              "</style>\n",
              "<table border=\"1\" class=\"dataframe\">\n",
              "  <thead>\n",
              "    <tr style=\"text-align: right;\">\n",
              "      <th></th>\n",
              "      <th>sentiment</th>\n",
              "      <th>id</th>\n",
              "      <th>date</th>\n",
              "      <th>query_string</th>\n",
              "      <th>user</th>\n",
              "      <th>text</th>\n",
              "    </tr>\n",
              "  </thead>\n",
              "  <tbody>\n",
              "    <tr>\n",
              "      <th>0</th>\n",
              "      <td>0</td>\n",
              "      <td>1467810369</td>\n",
              "      <td>Mon Apr 06 22:19:45 PDT 2009</td>\n",
              "      <td>NO_QUERY</td>\n",
              "      <td>_TheSpecialOne_</td>\n",
              "      <td>@switchfoot http://twitpic.com/2y1zl - Awww, t...</td>\n",
              "    </tr>\n",
              "    <tr>\n",
              "      <th>1</th>\n",
              "      <td>0</td>\n",
              "      <td>1467810672</td>\n",
              "      <td>Mon Apr 06 22:19:49 PDT 2009</td>\n",
              "      <td>NO_QUERY</td>\n",
              "      <td>scotthamilton</td>\n",
              "      <td>is upset that he can't update his Facebook by ...</td>\n",
              "    </tr>\n",
              "    <tr>\n",
              "      <th>2</th>\n",
              "      <td>0</td>\n",
              "      <td>1467810917</td>\n",
              "      <td>Mon Apr 06 22:19:53 PDT 2009</td>\n",
              "      <td>NO_QUERY</td>\n",
              "      <td>mattycus</td>\n",
              "      <td>@Kenichan I dived many times for the ball. Man...</td>\n",
              "    </tr>\n",
              "    <tr>\n",
              "      <th>3</th>\n",
              "      <td>0</td>\n",
              "      <td>1467811184</td>\n",
              "      <td>Mon Apr 06 22:19:57 PDT 2009</td>\n",
              "      <td>NO_QUERY</td>\n",
              "      <td>ElleCTF</td>\n",
              "      <td>my whole body feels itchy and like its on fire</td>\n",
              "    </tr>\n",
              "    <tr>\n",
              "      <th>4</th>\n",
              "      <td>0</td>\n",
              "      <td>1467811193</td>\n",
              "      <td>Mon Apr 06 22:19:57 PDT 2009</td>\n",
              "      <td>NO_QUERY</td>\n",
              "      <td>Karoli</td>\n",
              "      <td>@nationwideclass no, it's not behaving at all....</td>\n",
              "    </tr>\n",
              "  </tbody>\n",
              "</table>\n",
              "</div>"
            ],
            "text/plain": [
              "   sentiment  ...                                               text\n",
              "0          0  ...  @switchfoot http://twitpic.com/2y1zl - Awww, t...\n",
              "1          0  ...  is upset that he can't update his Facebook by ...\n",
              "2          0  ...  @Kenichan I dived many times for the ball. Man...\n",
              "3          0  ...    my whole body feels itchy and like its on fire \n",
              "4          0  ...  @nationwideclass no, it's not behaving at all....\n",
              "\n",
              "[5 rows x 6 columns]"
            ]
          },
          "metadata": {
            "tags": []
          },
          "execution_count": 128
        }
      ]
    },
    {
      "cell_type": "code",
      "metadata": {
        "id": "bEsF8f9cR51O",
        "colab_type": "code",
        "outputId": "43064631-645a-4670-ef3e-ba05148d1229",
        "colab": {
          "base_uri": "https://localhost:8080/",
          "height": 204
        }
      },
      "source": [
        "df.info()"
      ],
      "execution_count": 0,
      "outputs": [
        {
          "output_type": "stream",
          "text": [
            "<class 'pandas.core.frame.DataFrame'>\n",
            "RangeIndex: 1600000 entries, 0 to 1599999\n",
            "Data columns (total 6 columns):\n",
            "sentiment       1600000 non-null int64\n",
            "id              1600000 non-null int64\n",
            "date            1600000 non-null object\n",
            "query_string    1600000 non-null object\n",
            "user            1600000 non-null object\n",
            "text            1600000 non-null object\n",
            "dtypes: int64(2), object(4)\n",
            "memory usage: 73.2+ MB\n"
          ],
          "name": "stdout"
        }
      ]
    },
    {
      "cell_type": "code",
      "metadata": {
        "id": "hNfXoIByR_5K",
        "colab_type": "code",
        "outputId": "9fe24e49-1690-447f-cd9e-b91e081c2453",
        "colab": {
          "base_uri": "https://localhost:8080/",
          "height": 68
        }
      },
      "source": [
        "df.sentiment.value_counts()"
      ],
      "execution_count": 0,
      "outputs": [
        {
          "output_type": "execute_result",
          "data": {
            "text/plain": [
              "4    800000\n",
              "0    800000\n",
              "Name: sentiment, dtype: int64"
            ]
          },
          "metadata": {
            "tags": []
          },
          "execution_count": 131
        }
      ]
    },
    {
      "cell_type": "code",
      "metadata": {
        "id": "HjbiZ3eGS78W",
        "colab_type": "code",
        "outputId": "8b9e2771-e3ed-40e5-ed80-4172a586b9f9",
        "colab": {
          "base_uri": "https://localhost:8080/",
          "height": 51
        }
      },
      "source": [
        "df.query_string.value_counts()\n",
        "\n"
      ],
      "execution_count": 0,
      "outputs": [
        {
          "output_type": "execute_result",
          "data": {
            "text/plain": [
              "NO_QUERY    1600000\n",
              "Name: query_string, dtype: int64"
            ]
          },
          "metadata": {
            "tags": []
          },
          "execution_count": 132
        }
      ]
    },
    {
      "cell_type": "code",
      "metadata": {
        "id": "AGTJGAkHTBAY",
        "colab_type": "code",
        "colab": {}
      },
      "source": [
        "df.drop(['id','date','query_string','user'],axis=1,inplace=True)\n"
      ],
      "execution_count": 0,
      "outputs": []
    },
    {
      "cell_type": "code",
      "metadata": {
        "id": "_LKeMCj6e1LS",
        "colab_type": "code",
        "outputId": "300999f8-30bb-433e-e55d-01d6b23b9e87",
        "colab": {
          "base_uri": "https://localhost:8080/",
          "height": 204
        }
      },
      "source": [
        "df.head()"
      ],
      "execution_count": 0,
      "outputs": [
        {
          "output_type": "execute_result",
          "data": {
            "text/html": [
              "<div>\n",
              "<style scoped>\n",
              "    .dataframe tbody tr th:only-of-type {\n",
              "        vertical-align: middle;\n",
              "    }\n",
              "\n",
              "    .dataframe tbody tr th {\n",
              "        vertical-align: top;\n",
              "    }\n",
              "\n",
              "    .dataframe thead th {\n",
              "        text-align: right;\n",
              "    }\n",
              "</style>\n",
              "<table border=\"1\" class=\"dataframe\">\n",
              "  <thead>\n",
              "    <tr style=\"text-align: right;\">\n",
              "      <th></th>\n",
              "      <th>sentiment</th>\n",
              "      <th>text</th>\n",
              "    </tr>\n",
              "  </thead>\n",
              "  <tbody>\n",
              "    <tr>\n",
              "      <th>0</th>\n",
              "      <td>0</td>\n",
              "      <td>@switchfoot http://twitpic.com/2y1zl - Awww, t...</td>\n",
              "    </tr>\n",
              "    <tr>\n",
              "      <th>1</th>\n",
              "      <td>0</td>\n",
              "      <td>is upset that he can't update his Facebook by ...</td>\n",
              "    </tr>\n",
              "    <tr>\n",
              "      <th>2</th>\n",
              "      <td>0</td>\n",
              "      <td>@Kenichan I dived many times for the ball. Man...</td>\n",
              "    </tr>\n",
              "    <tr>\n",
              "      <th>3</th>\n",
              "      <td>0</td>\n",
              "      <td>my whole body feels itchy and like its on fire</td>\n",
              "    </tr>\n",
              "    <tr>\n",
              "      <th>4</th>\n",
              "      <td>0</td>\n",
              "      <td>@nationwideclass no, it's not behaving at all....</td>\n",
              "    </tr>\n",
              "  </tbody>\n",
              "</table>\n",
              "</div>"
            ],
            "text/plain": [
              "   sentiment                                               text\n",
              "0          0  @switchfoot http://twitpic.com/2y1zl - Awww, t...\n",
              "1          0  is upset that he can't update his Facebook by ...\n",
              "2          0  @Kenichan I dived many times for the ball. Man...\n",
              "3          0    my whole body feels itchy and like its on fire \n",
              "4          0  @nationwideclass no, it's not behaving at all...."
            ]
          },
          "metadata": {
            "tags": []
          },
          "execution_count": 134
        }
      ]
    },
    {
      "cell_type": "code",
      "metadata": {
        "id": "XDQk01gve3pi",
        "colab_type": "code",
        "outputId": "d3328303-a13d-4153-8659-9bc78bab60b2",
        "colab": {
          "base_uri": "https://localhost:8080/",
          "height": 359
        }
      },
      "source": [
        "df[df.sentiment == 0].head(10)"
      ],
      "execution_count": 0,
      "outputs": [
        {
          "output_type": "execute_result",
          "data": {
            "text/html": [
              "<div>\n",
              "<style scoped>\n",
              "    .dataframe tbody tr th:only-of-type {\n",
              "        vertical-align: middle;\n",
              "    }\n",
              "\n",
              "    .dataframe tbody tr th {\n",
              "        vertical-align: top;\n",
              "    }\n",
              "\n",
              "    .dataframe thead th {\n",
              "        text-align: right;\n",
              "    }\n",
              "</style>\n",
              "<table border=\"1\" class=\"dataframe\">\n",
              "  <thead>\n",
              "    <tr style=\"text-align: right;\">\n",
              "      <th></th>\n",
              "      <th>sentiment</th>\n",
              "      <th>text</th>\n",
              "    </tr>\n",
              "  </thead>\n",
              "  <tbody>\n",
              "    <tr>\n",
              "      <th>0</th>\n",
              "      <td>0</td>\n",
              "      <td>@switchfoot http://twitpic.com/2y1zl - Awww, t...</td>\n",
              "    </tr>\n",
              "    <tr>\n",
              "      <th>1</th>\n",
              "      <td>0</td>\n",
              "      <td>is upset that he can't update his Facebook by ...</td>\n",
              "    </tr>\n",
              "    <tr>\n",
              "      <th>2</th>\n",
              "      <td>0</td>\n",
              "      <td>@Kenichan I dived many times for the ball. Man...</td>\n",
              "    </tr>\n",
              "    <tr>\n",
              "      <th>3</th>\n",
              "      <td>0</td>\n",
              "      <td>my whole body feels itchy and like its on fire</td>\n",
              "    </tr>\n",
              "    <tr>\n",
              "      <th>4</th>\n",
              "      <td>0</td>\n",
              "      <td>@nationwideclass no, it's not behaving at all....</td>\n",
              "    </tr>\n",
              "    <tr>\n",
              "      <th>5</th>\n",
              "      <td>0</td>\n",
              "      <td>@Kwesidei not the whole crew</td>\n",
              "    </tr>\n",
              "    <tr>\n",
              "      <th>6</th>\n",
              "      <td>0</td>\n",
              "      <td>Need a hug</td>\n",
              "    </tr>\n",
              "    <tr>\n",
              "      <th>7</th>\n",
              "      <td>0</td>\n",
              "      <td>@LOLTrish hey  long time no see! Yes.. Rains a...</td>\n",
              "    </tr>\n",
              "    <tr>\n",
              "      <th>8</th>\n",
              "      <td>0</td>\n",
              "      <td>@Tatiana_K nope they didn't have it</td>\n",
              "    </tr>\n",
              "    <tr>\n",
              "      <th>9</th>\n",
              "      <td>0</td>\n",
              "      <td>@twittera que me muera ?</td>\n",
              "    </tr>\n",
              "  </tbody>\n",
              "</table>\n",
              "</div>"
            ],
            "text/plain": [
              "   sentiment                                               text\n",
              "0          0  @switchfoot http://twitpic.com/2y1zl - Awww, t...\n",
              "1          0  is upset that he can't update his Facebook by ...\n",
              "2          0  @Kenichan I dived many times for the ball. Man...\n",
              "3          0    my whole body feels itchy and like its on fire \n",
              "4          0  @nationwideclass no, it's not behaving at all....\n",
              "5          0                      @Kwesidei not the whole crew \n",
              "6          0                                        Need a hug \n",
              "7          0  @LOLTrish hey  long time no see! Yes.. Rains a...\n",
              "8          0               @Tatiana_K nope they didn't have it \n",
              "9          0                          @twittera que me muera ? "
            ]
          },
          "metadata": {
            "tags": []
          },
          "execution_count": 135
        }
      ]
    },
    {
      "cell_type": "code",
      "metadata": {
        "id": "YByTGDLPe6wj",
        "colab_type": "code",
        "outputId": "54f09b13-aa6a-4122-b8f7-23c4854aedb1",
        "colab": {
          "base_uri": "https://localhost:8080/",
          "height": 359
        }
      },
      "source": [
        "df[df.sentiment == 4].head(10)"
      ],
      "execution_count": 0,
      "outputs": [
        {
          "output_type": "execute_result",
          "data": {
            "text/html": [
              "<div>\n",
              "<style scoped>\n",
              "    .dataframe tbody tr th:only-of-type {\n",
              "        vertical-align: middle;\n",
              "    }\n",
              "\n",
              "    .dataframe tbody tr th {\n",
              "        vertical-align: top;\n",
              "    }\n",
              "\n",
              "    .dataframe thead th {\n",
              "        text-align: right;\n",
              "    }\n",
              "</style>\n",
              "<table border=\"1\" class=\"dataframe\">\n",
              "  <thead>\n",
              "    <tr style=\"text-align: right;\">\n",
              "      <th></th>\n",
              "      <th>sentiment</th>\n",
              "      <th>text</th>\n",
              "    </tr>\n",
              "  </thead>\n",
              "  <tbody>\n",
              "    <tr>\n",
              "      <th>800000</th>\n",
              "      <td>4</td>\n",
              "      <td>I LOVE @Health4UandPets u guys r the best!!</td>\n",
              "    </tr>\n",
              "    <tr>\n",
              "      <th>800001</th>\n",
              "      <td>4</td>\n",
              "      <td>im meeting up with one of my besties tonight! ...</td>\n",
              "    </tr>\n",
              "    <tr>\n",
              "      <th>800002</th>\n",
              "      <td>4</td>\n",
              "      <td>@DaRealSunisaKim Thanks for the Twitter add, S...</td>\n",
              "    </tr>\n",
              "    <tr>\n",
              "      <th>800003</th>\n",
              "      <td>4</td>\n",
              "      <td>Being sick can be really cheap when it hurts t...</td>\n",
              "    </tr>\n",
              "    <tr>\n",
              "      <th>800004</th>\n",
              "      <td>4</td>\n",
              "      <td>@LovesBrooklyn2 he has that effect on everyone</td>\n",
              "    </tr>\n",
              "    <tr>\n",
              "      <th>800005</th>\n",
              "      <td>4</td>\n",
              "      <td>@ProductOfFear You can tell him that I just bu...</td>\n",
              "    </tr>\n",
              "    <tr>\n",
              "      <th>800006</th>\n",
              "      <td>4</td>\n",
              "      <td>@r_keith_hill Thans for your response. Ihad al...</td>\n",
              "    </tr>\n",
              "    <tr>\n",
              "      <th>800007</th>\n",
              "      <td>4</td>\n",
              "      <td>@KeepinUpWKris I am so jealous, hope you had a...</td>\n",
              "    </tr>\n",
              "    <tr>\n",
              "      <th>800008</th>\n",
              "      <td>4</td>\n",
              "      <td>@tommcfly ah, congrats mr fletcher for finally...</td>\n",
              "    </tr>\n",
              "    <tr>\n",
              "      <th>800009</th>\n",
              "      <td>4</td>\n",
              "      <td>@e4VoIP I RESPONDED  Stupid cat is helping me ...</td>\n",
              "    </tr>\n",
              "  </tbody>\n",
              "</table>\n",
              "</div>"
            ],
            "text/plain": [
              "        sentiment                                               text\n",
              "800000          4       I LOVE @Health4UandPets u guys r the best!! \n",
              "800001          4  im meeting up with one of my besties tonight! ...\n",
              "800002          4  @DaRealSunisaKim Thanks for the Twitter add, S...\n",
              "800003          4  Being sick can be really cheap when it hurts t...\n",
              "800004          4    @LovesBrooklyn2 he has that effect on everyone \n",
              "800005          4  @ProductOfFear You can tell him that I just bu...\n",
              "800006          4  @r_keith_hill Thans for your response. Ihad al...\n",
              "800007          4  @KeepinUpWKris I am so jealous, hope you had a...\n",
              "800008          4  @tommcfly ah, congrats mr fletcher for finally...\n",
              "800009          4  @e4VoIP I RESPONDED  Stupid cat is helping me ..."
            ]
          },
          "metadata": {
            "tags": []
          },
          "execution_count": 136
        }
      ]
    },
    {
      "cell_type": "code",
      "metadata": {
        "id": "lcfVweXXfUw0",
        "colab_type": "code",
        "outputId": "276fb142-2ff5-41a9-94b7-152ae3d1147f",
        "colab": {
          "base_uri": "https://localhost:8080/",
          "height": 119
        }
      },
      "source": [
        "df[df.sentiment == 0].index"
      ],
      "execution_count": 0,
      "outputs": [
        {
          "output_type": "execute_result",
          "data": {
            "text/plain": [
              "Int64Index([     0,      1,      2,      3,      4,      5,      6,      7,\n",
              "                 8,      9,\n",
              "            ...\n",
              "            799990, 799991, 799992, 799993, 799994, 799995, 799996, 799997,\n",
              "            799998, 799999],\n",
              "           dtype='int64', length=800000)"
            ]
          },
          "metadata": {
            "tags": []
          },
          "execution_count": 137
        }
      ]
    },
    {
      "cell_type": "code",
      "metadata": {
        "id": "dSlhvnLAfaUS",
        "colab_type": "code",
        "outputId": "42224768-2c68-4a3a-d791-5a97a77857b9",
        "colab": {
          "base_uri": "https://localhost:8080/",
          "height": 119
        }
      },
      "source": [
        "df[df.sentiment == 4].index"
      ],
      "execution_count": 0,
      "outputs": [
        {
          "output_type": "execute_result",
          "data": {
            "text/plain": [
              "Int64Index([ 800000,  800001,  800002,  800003,  800004,  800005,  800006,\n",
              "             800007,  800008,  800009,\n",
              "            ...\n",
              "            1599990, 1599991, 1599992, 1599993, 1599994, 1599995, 1599996,\n",
              "            1599997, 1599998, 1599999],\n",
              "           dtype='int64', length=800000)"
            ]
          },
          "metadata": {
            "tags": []
          },
          "execution_count": 138
        }
      ]
    },
    {
      "cell_type": "code",
      "metadata": {
        "id": "rB3ml8hifkir",
        "colab_type": "code",
        "colab": {}
      },
      "source": [
        "df['sentiment'] = df['sentiment'].map({0: 0, 4: 1})\n"
      ],
      "execution_count": 0,
      "outputs": []
    },
    {
      "cell_type": "code",
      "metadata": {
        "id": "KQbrGGw5fmlT",
        "colab_type": "code",
        "outputId": "d86008b3-f24f-4105-e403-16f57c8a652e",
        "colab": {
          "base_uri": "https://localhost:8080/",
          "height": 68
        }
      },
      "source": [
        "df.sentiment.value_counts()"
      ],
      "execution_count": 0,
      "outputs": [
        {
          "output_type": "execute_result",
          "data": {
            "text/plain": [
              "1    800000\n",
              "0    800000\n",
              "Name: sentiment, dtype: int64"
            ]
          },
          "metadata": {
            "tags": []
          },
          "execution_count": 140
        }
      ]
    },
    {
      "cell_type": "markdown",
      "metadata": {
        "id": "WdLUYdKSfx10",
        "colab_type": "text"
      },
      "source": [
        "# Data Preprocessing"
      ]
    },
    {
      "cell_type": "code",
      "metadata": {
        "id": "Gdhxuspxf4DB",
        "colab_type": "code",
        "colab": {}
      },
      "source": [
        "df['pre_clean_len'] = [len(t) for t in df.text]"
      ],
      "execution_count": 0,
      "outputs": []
    },
    {
      "cell_type": "code",
      "metadata": {
        "id": "AhNq0UQxf-c5",
        "colab_type": "code",
        "outputId": "91874b68-9eb0-4df3-a998-9894ade89d75",
        "colab": {
          "base_uri": "https://localhost:8080/",
          "height": 119
        }
      },
      "source": [
        "from pprint import pprint\n",
        "data_dict = {\n",
        "    'sentiment':{\n",
        "        'type':df.sentiment.dtype,\n",
        "        'description':'sentiment class - 0:negative, 1:positive'\n",
        "    },\n",
        "    'text':{\n",
        "        'type':df.text.dtype,\n",
        "        'description':'tweet text'\n",
        "    },\n",
        "    'pre_clean_len':{\n",
        "        'type':df.pre_clean_len.dtype,\n",
        "        'description':'Length of the tweet before cleaning'\n",
        "    },\n",
        "    'dataset_shape':df.shape\n",
        "}\n",
        "\n",
        "pprint(data_dict)"
      ],
      "execution_count": 0,
      "outputs": [
        {
          "output_type": "stream",
          "text": [
            "{'dataset_shape': (1600000, 3),\n",
            " 'pre_clean_len': {'description': 'Length of the tweet before cleaning',\n",
            "                   'type': dtype('int64')},\n",
            " 'sentiment': {'description': 'sentiment class - 0:negative, 1:positive',\n",
            "               'type': dtype('int64')},\n",
            " 'text': {'description': 'tweet text', 'type': dtype('O')}}\n"
          ],
          "name": "stdout"
        }
      ]
    },
    {
      "cell_type": "code",
      "metadata": {
        "id": "eC7zDQiff-wl",
        "colab_type": "code",
        "outputId": "0a2b0411-f64d-4b5b-b7ac-4b8a4f1ed5e9",
        "colab": {
          "base_uri": "https://localhost:8080/",
          "height": 316
        }
      },
      "source": [
        "fig, ax = plt.subplots(figsize=(5, 5))\n",
        "plt.boxplot(df.pre_clean_len)\n",
        "plt.show()"
      ],
      "execution_count": 0,
      "outputs": [
        {
          "output_type": "display_data",
          "data": {
            "image/png": "[encoded data removed]",
            "text/plain": [
              "<Figure size 360x360 with 1 Axes>"
            ]
          },
          "metadata": {
            "tags": [],
            "image/png": {
              "width": 350,
              "height": 299
            }
          }
        }
      ]
    },
    {
      "cell_type": "code",
      "metadata": {
        "id": "JcHDYLUcf-_b",
        "colab_type": "code",
        "outputId": "ea6e01b9-d4b2-4d7c-c14a-9b576b2f7f46",
        "colab": {
          "base_uri": "https://localhost:8080/",
          "height": 359
        }
      },
      "source": [
        "df[df.pre_clean_len > 140].head(10)"
      ],
      "execution_count": 0,
      "outputs": [
        {
          "output_type": "execute_result",
          "data": {
            "text/html": [
              "<div>\n",
              "<style scoped>\n",
              "    .dataframe tbody tr th:only-of-type {\n",
              "        vertical-align: middle;\n",
              "    }\n",
              "\n",
              "    .dataframe tbody tr th {\n",
              "        vertical-align: top;\n",
              "    }\n",
              "\n",
              "    .dataframe thead th {\n",
              "        text-align: right;\n",
              "    }\n",
              "</style>\n",
              "<table border=\"1\" class=\"dataframe\">\n",
              "  <thead>\n",
              "    <tr style=\"text-align: right;\">\n",
              "      <th></th>\n",
              "      <th>sentiment</th>\n",
              "      <th>text</th>\n",
              "      <th>pre_clean_len</th>\n",
              "    </tr>\n",
              "  </thead>\n",
              "  <tbody>\n",
              "    <tr>\n",
              "      <th>213</th>\n",
              "      <td>0</td>\n",
              "      <td>Awwh babs... you look so sad underneith that s...</td>\n",
              "      <td>142</td>\n",
              "    </tr>\n",
              "    <tr>\n",
              "      <th>226</th>\n",
              "      <td>0</td>\n",
              "      <td>Tuesdayï¿½ll start with reflection ï¿½n then a...</td>\n",
              "      <td>141</td>\n",
              "    </tr>\n",
              "    <tr>\n",
              "      <th>279</th>\n",
              "      <td>0</td>\n",
              "      <td>Whinging. My client&amp;amp;boss don't understand ...</td>\n",
              "      <td>145</td>\n",
              "    </tr>\n",
              "    <tr>\n",
              "      <th>343</th>\n",
              "      <td>0</td>\n",
              "      <td>@TheLeagueSF Not Fun &amp;amp; Furious? The new ma...</td>\n",
              "      <td>145</td>\n",
              "    </tr>\n",
              "    <tr>\n",
              "      <th>400</th>\n",
              "      <td>0</td>\n",
              "      <td>#3 woke up and was having an accident - &amp;quot;...</td>\n",
              "      <td>144</td>\n",
              "    </tr>\n",
              "    <tr>\n",
              "      <th>464</th>\n",
              "      <td>0</td>\n",
              "      <td>My bathtub drain is fired: it haz 1 job 2 do, ...</td>\n",
              "      <td>146</td>\n",
              "    </tr>\n",
              "    <tr>\n",
              "      <th>492</th>\n",
              "      <td>0</td>\n",
              "      <td>pears &amp;amp; Brie, bottle of Cabernet, and &amp;quo...</td>\n",
              "      <td>150</td>\n",
              "    </tr>\n",
              "    <tr>\n",
              "      <th>747</th>\n",
              "      <td>0</td>\n",
              "      <td>Have an invite for &amp;quot;Healthy Dining&amp;quot; ...</td>\n",
              "      <td>141</td>\n",
              "    </tr>\n",
              "    <tr>\n",
              "      <th>957</th>\n",
              "      <td>0</td>\n",
              "      <td>Damnit I was really digging this season of Rea...</td>\n",
              "      <td>141</td>\n",
              "    </tr>\n",
              "    <tr>\n",
              "      <th>1064</th>\n",
              "      <td>0</td>\n",
              "      <td>Why do I keep looking...I know that what I rea...</td>\n",
              "      <td>141</td>\n",
              "    </tr>\n",
              "  </tbody>\n",
              "</table>\n",
              "</div>"
            ],
            "text/plain": [
              "      sentiment  ... pre_clean_len\n",
              "213           0  ...           142\n",
              "226           0  ...           141\n",
              "279           0  ...           145\n",
              "343           0  ...           145\n",
              "400           0  ...           144\n",
              "464           0  ...           146\n",
              "492           0  ...           150\n",
              "747           0  ...           141\n",
              "957           0  ...           141\n",
              "1064          0  ...           141\n",
              "\n",
              "[10 rows x 3 columns]"
            ]
          },
          "metadata": {
            "tags": []
          },
          "execution_count": 145
        }
      ]
    },
    {
      "cell_type": "markdown",
      "metadata": {
        "id": "3dwTV5ALglJZ",
        "colab_type": "text"
      },
      "source": [
        "## **Data Preparation 1: HTML decoding**"
      ]
    },
    {
      "cell_type": "code",
      "metadata": {
        "id": "QJxD1LaLf_ba",
        "colab_type": "code",
        "outputId": "11797684-1c52-4036-ed1f-3d2bf07ee5dd",
        "colab": {
          "base_uri": "https://localhost:8080/",
          "height": 34
        }
      },
      "source": [
        "df.text[279]"
      ],
      "execution_count": 0,
      "outputs": [
        {
          "output_type": "execute_result",
          "data": {
            "text/plain": [
              "\"Whinging. My client&amp;boss don't understand English well. Rewrote some text unreadable. It's written by v. good writer&amp;reviewed correctly. \""
            ]
          },
          "metadata": {
            "tags": []
          },
          "execution_count": 146
        }
      ]
    },
    {
      "cell_type": "code",
      "metadata": {
        "id": "-sfCQZxdf_o4",
        "colab_type": "code",
        "outputId": "9f23d56e-ffbe-43b4-da05-287453301209",
        "colab": {
          "base_uri": "https://localhost:8080/",
          "height": 34
        }
      },
      "source": [
        "from bs4 import BeautifulSoup\n",
        "example1 = BeautifulSoup(df.text[279], 'lxml')\n",
        "print(example1.get_text())"
      ],
      "execution_count": 0,
      "outputs": [
        {
          "output_type": "stream",
          "text": [
            "Whinging. My client&boss don't understand English well. Rewrote some text unreadable. It's written by v. good writer&reviewed correctly. \n"
          ],
          "name": "stdout"
        }
      ]
    },
    {
      "cell_type": "markdown",
      "metadata": {
        "id": "qy4SM7uMg4Pm",
        "colab_type": "text"
      },
      "source": [
        "## Data Preparation 2: @mention"
      ]
    },
    {
      "cell_type": "code",
      "metadata": {
        "id": "JooMkjw3gAXf",
        "colab_type": "code",
        "outputId": "9fc0d1bc-bf55-4ef2-e8a3-504fae090c1f",
        "colab": {
          "base_uri": "https://localhost:8080/",
          "height": 34
        }
      },
      "source": [
        "df.text[343]"
      ],
      "execution_count": 0,
      "outputs": [
        {
          "output_type": "execute_result",
          "data": {
            "text/plain": [
              "'@TheLeagueSF Not Fun &amp; Furious? The new mantra for the Bay 2 Breakers? It was getting 2 rambunctious;the city overreacted &amp; clamped down '"
            ]
          },
          "metadata": {
            "tags": []
          },
          "execution_count": 148
        }
      ]
    },
    {
      "cell_type": "code",
      "metadata": {
        "id": "R1mcs-VggAvK",
        "colab_type": "code",
        "outputId": "2de55e9e-89f3-47d2-b171-db0545b7ec6b",
        "colab": {
          "base_uri": "https://localhost:8080/",
          "height": 34
        }
      },
      "source": [
        "import re\n",
        "re.sub(r'@[A-Za-z0-9]+','',df.text[343])"
      ],
      "execution_count": 0,
      "outputs": [
        {
          "output_type": "execute_result",
          "data": {
            "text/plain": [
              "' Not Fun &amp; Furious? The new mantra for the Bay 2 Breakers? It was getting 2 rambunctious;the city overreacted &amp; clamped down '"
            ]
          },
          "metadata": {
            "tags": []
          },
          "execution_count": 149
        }
      ]
    },
    {
      "cell_type": "markdown",
      "metadata": {
        "id": "Y9KsHyMrhLz6",
        "colab_type": "text"
      },
      "source": [
        "## Data Preparation 3: URL links"
      ]
    },
    {
      "cell_type": "code",
      "metadata": {
        "id": "G1tw5ku7gBUM",
        "colab_type": "code",
        "outputId": "9a1f46c4-a0ab-40c6-b1d7-245ae62b7f5e",
        "colab": {
          "base_uri": "https://localhost:8080/",
          "height": 34
        }
      },
      "source": [
        "df.text[0]"
      ],
      "execution_count": 0,
      "outputs": [
        {
          "output_type": "execute_result",
          "data": {
            "text/plain": [
              "\"@switchfoot http://twitpic.com/2y1zl - Awww, that's a bummer.  You shoulda got David Carr of Third Day to do it. ;D\""
            ]
          },
          "metadata": {
            "tags": []
          },
          "execution_count": 150
        }
      ]
    },
    {
      "cell_type": "code",
      "metadata": {
        "id": "bXSYDfnKhQ3W",
        "colab_type": "code",
        "outputId": "004d90a6-9f21-44ec-aaa9-0390d0ebc031",
        "colab": {
          "base_uri": "https://localhost:8080/",
          "height": 34
        }
      },
      "source": [
        "re.sub('https?://[A-Za-z0-9./]+','',df.text[0])"
      ],
      "execution_count": 0,
      "outputs": [
        {
          "output_type": "execute_result",
          "data": {
            "text/plain": [
              "\"@switchfoot  - Awww, that's a bummer.  You shoulda got David Carr of Third Day to do it. ;D\""
            ]
          },
          "metadata": {
            "tags": []
          },
          "execution_count": 151
        }
      ]
    },
    {
      "cell_type": "markdown",
      "metadata": {
        "id": "5UrOwr6chha1",
        "colab_type": "text"
      },
      "source": [
        "## Data Preparation 4: UTF-8 BOM (Byte Order Mark)"
      ]
    },
    {
      "cell_type": "code",
      "metadata": {
        "id": "W8ME3BZngBh_",
        "colab_type": "code",
        "outputId": "9b5872b2-075a-4842-d91a-ea0fa3f4ce17",
        "colab": {
          "base_uri": "https://localhost:8080/",
          "height": 34
        }
      },
      "source": [
        "re.sub(r'[^\\x00-\\x7F]+','?', df.text[226])\n"
      ],
      "execution_count": 0,
      "outputs": [
        {
          "output_type": "execute_result",
          "data": {
            "text/plain": [
              "'Tuesday?ll start with reflection ?n then a lecture in Stress reducing techniques. That sure might become very useful for us accompaniers '"
            ]
          },
          "metadata": {
            "tags": []
          },
          "execution_count": 167
        }
      ]
    },
    {
      "cell_type": "code",
      "metadata": {
        "id": "1Hq4sJh8gBv6",
        "colab_type": "code",
        "outputId": "1cbcb839-2aae-4b88-b37e-d9100c806751",
        "colab": {
          "base_uri": "https://localhost:8080/",
          "height": 34
        }
      },
      "source": [
        "testing = df.text[226]\n",
        "re.sub(r'[^\\x00-\\x7F]+','', testing)\n"
      ],
      "execution_count": 0,
      "outputs": [
        {
          "output_type": "execute_result",
          "data": {
            "text/plain": [
              "'Tuesdayll start with reflection n then a lecture in Stress reducing techniques. That sure might become very useful for us accompaniers '"
            ]
          },
          "metadata": {
            "tags": []
          },
          "execution_count": 168
        }
      ]
    },
    {
      "cell_type": "markdown",
      "metadata": {
        "id": "jYB9Sw5Zo5h8",
        "colab_type": "text"
      },
      "source": [
        "## Data Preparation 5: hashtag / numbers"
      ]
    },
    {
      "cell_type": "code",
      "metadata": {
        "id": "0PODF35Ooxmb",
        "colab_type": "code",
        "outputId": "79f30cfc-fc27-4bf1-a256-728eda95fc0d",
        "colab": {
          "base_uri": "https://localhost:8080/",
          "height": 34
        }
      },
      "source": [
        "df.text[175]"
      ],
      "execution_count": 0,
      "outputs": [
        {
          "output_type": "execute_result",
          "data": {
            "text/plain": [
              "\"@machineplay I'm so sorry you're having to go through this. Again.  #therapyfail\""
            ]
          },
          "metadata": {
            "tags": []
          },
          "execution_count": 169
        }
      ]
    },
    {
      "cell_type": "code",
      "metadata": {
        "id": "CTx_OLmioyE4",
        "colab_type": "code",
        "outputId": "8a629a7e-b059-4a54-f1c4-ceea9ec23961",
        "colab": {
          "base_uri": "https://localhost:8080/",
          "height": 34
        }
      },
      "source": [
        "re.sub(\"[^a-zA-Z]\", \" \", df.text[175])"
      ],
      "execution_count": 0,
      "outputs": [
        {
          "output_type": "execute_result",
          "data": {
            "text/plain": [
              "' machineplay I m so sorry you re having to go through this  Again    therapyfail'"
            ]
          },
          "metadata": {
            "tags": []
          },
          "execution_count": 170
        }
      ]
    },
    {
      "cell_type": "markdown",
      "metadata": {
        "id": "lUAt6IHWpCVE",
        "colab_type": "text"
      },
      "source": [
        "# Defining data cleaning function"
      ]
    },
    {
      "cell_type": "code",
      "metadata": {
        "id": "HbDXIdhCoyTL",
        "colab_type": "code",
        "colab": {}
      },
      "source": [
        "from nltk.tokenize import WordPunctTokenizer\n",
        "tok = WordPunctTokenizer()"
      ],
      "execution_count": 0,
      "outputs": []
    },
    {
      "cell_type": "code",
      "metadata": {
        "id": "qnM2hXR0oyoy",
        "colab_type": "code",
        "colab": {}
      },
      "source": [
        "pat1 = r'@[A-Za-z0-9]+'\n",
        "pat2 = r'https?://[A-Za-z0-9./]+'\n",
        "combined_pat = r'|'.join((pat1, pat2))\n",
        "\n",
        "def tweet_cleaner(text):\n",
        "    soup = BeautifulSoup(text, 'lxml')\n",
        "    souped = soup.get_text()\n",
        "    stripped = re.sub(combined_pat, '', souped)\n",
        "    try:\n",
        "        clean = stripped.decode(\"utf-8-sig\").replace(u\"\\ufffd\", \"?\")\n",
        "    except:\n",
        "        clean = stripped\n",
        "    letters_only = re.sub(\"[^a-zA-Z]\", \" \", clean)\n",
        "    lower_case = letters_only.lower()\n",
        "    # During the letters_only process two lines above, it has created unnecessay white spaces,\n",
        "    # I will tokenize and join together to remove unneccessary white spaces\n",
        "    words = tok.tokenize(lower_case)\n",
        "    return (\" \".join(words)).strip()"
      ],
      "execution_count": 0,
      "outputs": []
    },
    {
      "cell_type": "code",
      "metadata": {
        "id": "l43pHLVuoy2l",
        "colab_type": "code",
        "colab": {}
      },
      "source": [
        "testing = df.text[:100]"
      ],
      "execution_count": 0,
      "outputs": []
    },
    {
      "cell_type": "code",
      "metadata": {
        "id": "k_yRaBqaozLn",
        "colab_type": "code",
        "colab": {}
      },
      "source": [
        "test_result = []\n",
        "for t in testing:\n",
        "    test_result.append(tweet_cleaner(t))"
      ],
      "execution_count": 0,
      "outputs": []
    },
    {
      "cell_type": "code",
      "metadata": {
        "id": "Qp8YRDB7ozoZ",
        "colab_type": "code",
        "outputId": "ebccbbfc-00b0-4db4-f84e-5456df0f7776",
        "colab": {
          "base_uri": "https://localhost:8080/",
          "height": 1717
        }
      },
      "source": [
        "test_result"
      ],
      "execution_count": 0,
      "outputs": [
        {
          "output_type": "execute_result",
          "data": {
            "text/plain": [
              "['awww that s a bummer you shoulda got david carr of third day to do it d',\n",
              " 'is upset that he can t update his facebook by texting it and might cry as a result school today also blah',\n",
              " 'i dived many times for the ball managed to save the rest go out of bounds',\n",
              " 'my whole body feels itchy and like its on fire',\n",
              " 'no it s not behaving at all i m mad why am i here because i can t see you all over there',\n",
              " 'not the whole crew',\n",
              " 'need a hug',\n",
              " 'hey long time no see yes rains a bit only a bit lol i m fine thanks how s you',\n",
              " 'k nope they didn t have it',\n",
              " 'que me muera',\n",
              " 'spring break in plain city it s snowing',\n",
              " 'i just re pierced my ears',\n",
              " 'i couldn t bear to watch it and i thought the ua loss was embarrassing',\n",
              " 'it it counts idk why i did either you never talk to me anymore',\n",
              " 'i would ve been the first but i didn t have a gun not really though zac snyder s just a doucheclown',\n",
              " 'i wish i got to watch it with you i miss you and how was the premiere',\n",
              " 'hollis death scene will hurt me severely to watch on film wry is directors cut not out now',\n",
              " 'about to file taxes',\n",
              " 'ahh ive always wanted to see rent love the soundtrack',\n",
              " 'oh dear were you drinking out of the forgotten table drinks',\n",
              " 'i was out most of the day so didn t get much done',\n",
              " 'one of my friend called me and asked to meet with her at mid valley today but i ve no time sigh',\n",
              " 'barista i baked you a cake but i ated it',\n",
              " 'this week is not going as i had hoped',\n",
              " 'blagh class at tomorrow',\n",
              " 'i hate when i have to call and wake people up',\n",
              " 'just going to cry myself to sleep after watching marley and me',\n",
              " 'im sad now miss lilly',\n",
              " 'ooooh lol that leslie and ok i won t do it again so leslie won t get mad again',\n",
              " 'meh almost lover is the exception this track gets me depressed every time',\n",
              " 'some hacked my account on aim now i have to make a new one',\n",
              " 'i want to go to promote gear and groove but unfornately no ride there i may b going to the one in anaheim in may though',\n",
              " 'thought sleeping in was an option tomorrow but realizing that it now is not evaluations in the morning and work in the afternoon',\n",
              " 'awe i love you too am here i miss you',\n",
              " 'i cry my asian eyes to sleep at night',\n",
              " 'ok i m sick and spent an hour sitting in the shower cause i was too sick to stand and held back the puke like a champ bed now',\n",
              " 'ill tell ya the story later not a good day and ill be workin for like three more hours',\n",
              " 'sorry bed time came here gmt',\n",
              " 'i don t either its depressing i don t think i even want to know about the kids in suitcases',\n",
              " 'bed class work gym or then class another day that s gonna fly by i miss my girlfriend',\n",
              " 'really don t feel like getting up today but got to study to for tomorrows practical exam',\n",
              " 'he s the reason for the teardrops on my guitar the only one who has enough of me to break my heart',\n",
              " 'sad sad sad i don t know why but i hate this feeling i wanna sleep and i still can t',\n",
              " 'awww i soo wish i was there to see you finally comfortable im sad that i missed it',\n",
              " 'falling asleep just heard about that tracy girl s body being found how sad my heart breaks for that family',\n",
              " 'yay i m happy for you with your job but that also means less time for me and you',\n",
              " 'just checked my user timeline on my blackberry it looks like the twanking is still happening are ppl still having probs w bgs and uids',\n",
              " 'oh man was ironing s fave top to wear to a meeting burnt it',\n",
              " 'is strangely sad about lilo and samro breaking up',\n",
              " 'oh i m so sorry i didn t think about that before retweeting',\n",
              " 'broadband plan a massive broken promise via www diigo com tautao still waiting for broadband we are',\n",
              " 'wow tons of replies from you may have to unfollow so i can see my friends tweets you re scrolling the feed a lot',\n",
              " 'our duck and chicken are taking wayyy too long to hatch',\n",
              " 'put vacation photos online a few yrs ago pc crashed and now i forget the name of the site',\n",
              " 'i need a hug',\n",
              " 'not sure what they are only that they are pos as much as i want to i dont think can trade away company assets sorry andy',\n",
              " 'i hate when that happens',\n",
              " 'i have a sad feeling that dallas is not going to show up i gotta say though you d think more shows would use music from the game mmm',\n",
              " 'ugh degrees tomorrow',\n",
              " 'where did u move to i thought u were already in sd hmmm random u found me glad to hear yer doing well',\n",
              " 'i miss my ps it s out of commission wutcha playing have you copped blood on the sand',\n",
              " 'just leaving the parking lot of work',\n",
              " 'the life is cool but not for me',\n",
              " 'sadly though i ve never gotten to experience the post coitus cigarette before and now i never will',\n",
              " 'i had such a nice day too bad the rain comes in tomorrow at am',\n",
              " 'too bad i won t be around i lost my job and can t even pay my phone bill lmao aw shucks',\n",
              " 'damm back to school tomorrow',\n",
              " 'mo jobs no money how in the hell is min wage here f n clams an hour',\n",
              " 'not forever see you soon',\n",
              " 'algonquin agreed i saw the failwhale allllll day today',\n",
              " 'oh haha dude i dont really look at em unless someone says hey i added you sorry i m so terrible at that i need a pop up',\n",
              " 'i m sure you re right i need to start working out with you and the nikster or jared at least',\n",
              " 'i really hate how people diss my bands trace is clearly not ugly',\n",
              " 'gym attire today was puma singlet adidas shorts and black business socks and leather shoes lucky did not run into any cute girls',\n",
              " 'why won t you show my location',\n",
              " 'no picnic my phone smells like citrus',\n",
              " 'my donkey is sensitive about such comments nevertheless he d and me d be glad to see your mug asap charger is still awol',\n",
              " 'no new csi tonight fml',\n",
              " 'i think my arms are sore from tennis',\n",
              " 'wonders why someone that u like so much can make you so unhappy in a split seccond depressed',\n",
              " 'sleep soon i just hate saying bye and see you tomorrow for the night',\n",
              " 'just got ur newsletter those fares really are unbelievable shame i already booked and paid for mine',\n",
              " 'missin the boo',\n",
              " 'me too itm',\n",
              " 'damn i don t have any chalk my chalkboard is useless',\n",
              " 'had a blast at the getty villa but hates that she s had a sore throat all day it s just getting worse too',\n",
              " 'hey missed ya at the meeting sup mama',\n",
              " 'my tummy hurts i wonder if the hypnosis has anything to do with it if so it s working i get it stop smoking',\n",
              " 'why is it always the fat ones',\n",
              " 'sorry babe my fam annoys me too thankfully they re asleep right now muahaha evil laugh',\n",
              " 'i should have paid more attention when we covered photoshop in my webpage design class in undergrad',\n",
              " 'wednesday my b day don t know what do',\n",
              " 'poor cameron the hills',\n",
              " 'pray for me please the ex is threatening to start sh at my our babies st birthday party what a jerk and i still have a headache',\n",
              " 'hmm do u really enjoy being with him if the problems are too constants u should think things more find someone ulike',\n",
              " 'strider is a sick little puppy',\n",
              " 'so rylee grace wana go steve s party or not sadly since its easter i wnt b able do much but ohh well',\n",
              " 'hey i actually won one of my bracket pools too bad it wasn t the one for money',\n",
              " 'you don t follow me either and i work for you',\n",
              " 'a bad nite for the favorite teams astros and spartans lose the nite out with t w was good']"
            ]
          },
          "metadata": {
            "tags": []
          },
          "execution_count": 185
        }
      ]
    },
    {
      "cell_type": "code",
      "metadata": {
        "id": "ZDkp9eLxpwng",
        "colab_type": "code",
        "colab": {}
      },
      "source": [
        "nums = [0,400000,800000,1200000,1600000]"
      ],
      "execution_count": 0,
      "outputs": []
    },
    {
      "cell_type": "code",
      "metadata": {
        "id": "i51qHp9npwtV",
        "colab_type": "code",
        "outputId": "a8dffb59-b838-4baf-cdae-206658dde203",
        "colab": {
          "base_uri": "https://localhost:8080/",
          "height": 765
        }
      },
      "source": [
        "%%time\n",
        "print(\"Cleaning and parsing the tweets...\\n\")\n",
        "clean_tweet_texts = []\n",
        "for i in range(nums[0],nums[1]):\n",
        "    if( (i+1)%10000 == 0 ):\n",
        "        print(\"Tweets %d of %d has been processed\" % ( i+1, nums[1] ) )                                                                  \n",
        "    clean_tweet_texts.append(tweet_cleaner(df['text'][i]))"
      ],
      "execution_count": 0,
      "outputs": [
        {
          "output_type": "stream",
          "text": [
            "Cleaning and parsing the tweets...\n",
            "\n",
            "Tweets 10000 of 400000 has been processed\n",
            "Tweets 20000 of 400000 has been processed\n",
            "Tweets 30000 of 400000 has been processed\n",
            "Tweets 40000 of 400000 has been processed\n",
            "Tweets 50000 of 400000 has been processed\n",
            "Tweets 60000 of 400000 has been processed\n",
            "Tweets 70000 of 400000 has been processed\n",
            "Tweets 80000 of 400000 has been processed\n",
            "Tweets 90000 of 400000 has been processed\n",
            "Tweets 100000 of 400000 has been processed\n",
            "Tweets 110000 of 400000 has been processed\n",
            "Tweets 120000 of 400000 has been processed\n",
            "Tweets 130000 of 400000 has been processed\n",
            "Tweets 140000 of 400000 has been processed\n",
            "Tweets 150000 of 400000 has been processed\n",
            "Tweets 160000 of 400000 has been processed\n",
            "Tweets 170000 of 400000 has been processed\n",
            "Tweets 180000 of 400000 has been processed\n",
            "Tweets 190000 of 400000 has been processed\n",
            "Tweets 200000 of 400000 has been processed\n",
            "Tweets 210000 of 400000 has been processed\n",
            "Tweets 220000 of 400000 has been processed\n",
            "Tweets 230000 of 400000 has been processed\n",
            "Tweets 240000 of 400000 has been processed\n",
            "Tweets 250000 of 400000 has been processed\n",
            "Tweets 260000 of 400000 has been processed\n",
            "Tweets 270000 of 400000 has been processed\n",
            "Tweets 280000 of 400000 has been processed\n",
            "Tweets 290000 of 400000 has been processed\n",
            "Tweets 300000 of 400000 has been processed\n",
            "Tweets 310000 of 400000 has been processed\n",
            "Tweets 320000 of 400000 has been processed\n",
            "Tweets 330000 of 400000 has been processed\n",
            "Tweets 340000 of 400000 has been processed\n",
            "Tweets 350000 of 400000 has been processed\n",
            "Tweets 360000 of 400000 has been processed\n",
            "Tweets 370000 of 400000 has been processed\n",
            "Tweets 380000 of 400000 has been processed\n",
            "Tweets 390000 of 400000 has been processed\n",
            "Tweets 400000 of 400000 has been processed\n",
            "CPU times: user 2min 1s, sys: 6.21 s, total: 2min 7s\n",
            "Wall time: 2min 7s\n"
          ],
          "name": "stdout"
        }
      ]
    },
    {
      "cell_type": "code",
      "metadata": {
        "id": "lnSS6kq1pwwq",
        "colab_type": "code",
        "outputId": "5383df93-a36e-4be5-aa27-d72957cd4fc2",
        "colab": {
          "base_uri": "https://localhost:8080/",
          "height": 34
        }
      },
      "source": [
        "len(clean_tweet_texts)"
      ],
      "execution_count": 0,
      "outputs": [
        {
          "output_type": "execute_result",
          "data": {
            "text/plain": [
              "400000"
            ]
          },
          "metadata": {
            "tags": []
          },
          "execution_count": 191
        }
      ]
    },
    {
      "cell_type": "code",
      "metadata": {
        "id": "swppfdc3pwzQ",
        "colab_type": "code",
        "outputId": "13a5946b-d2e3-4127-deac-f780c56281ff",
        "colab": {
          "base_uri": "https://localhost:8080/",
          "height": 765
        }
      },
      "source": [
        "%%time\n",
        "print(\"Cleaning and parsing the tweets...\\n\")\n",
        "for i in range(nums[1],nums[2]):\n",
        "    if( (i+1)%10000 == 0 ):\n",
        "        print (\"Tweets %d of %d has been processed\" % ( i+1, nums[2] ) )                                                                   \n",
        "    clean_tweet_texts.append(tweet_cleaner(df['text'][i]))"
      ],
      "execution_count": 0,
      "outputs": [
        {
          "output_type": "stream",
          "text": [
            "Cleaning and parsing the tweets...\n",
            "\n",
            "Tweets 410000 of 800000 has been processed\n",
            "Tweets 420000 of 800000 has been processed\n",
            "Tweets 430000 of 800000 has been processed\n",
            "Tweets 440000 of 800000 has been processed\n",
            "Tweets 450000 of 800000 has been processed\n",
            "Tweets 460000 of 800000 has been processed\n",
            "Tweets 470000 of 800000 has been processed\n",
            "Tweets 480000 of 800000 has been processed\n",
            "Tweets 490000 of 800000 has been processed\n",
            "Tweets 500000 of 800000 has been processed\n",
            "Tweets 510000 of 800000 has been processed\n",
            "Tweets 520000 of 800000 has been processed\n",
            "Tweets 530000 of 800000 has been processed\n",
            "Tweets 540000 of 800000 has been processed\n",
            "Tweets 550000 of 800000 has been processed\n",
            "Tweets 560000 of 800000 has been processed\n",
            "Tweets 570000 of 800000 has been processed\n",
            "Tweets 580000 of 800000 has been processed\n",
            "Tweets 590000 of 800000 has been processed\n",
            "Tweets 600000 of 800000 has been processed\n",
            "Tweets 610000 of 800000 has been processed\n",
            "Tweets 620000 of 800000 has been processed\n",
            "Tweets 630000 of 800000 has been processed\n",
            "Tweets 640000 of 800000 has been processed\n",
            "Tweets 650000 of 800000 has been processed\n",
            "Tweets 660000 of 800000 has been processed\n",
            "Tweets 670000 of 800000 has been processed\n",
            "Tweets 680000 of 800000 has been processed\n",
            "Tweets 690000 of 800000 has been processed\n",
            "Tweets 700000 of 800000 has been processed\n",
            "Tweets 710000 of 800000 has been processed\n",
            "Tweets 720000 of 800000 has been processed\n",
            "Tweets 730000 of 800000 has been processed\n",
            "Tweets 740000 of 800000 has been processed\n",
            "Tweets 750000 of 800000 has been processed\n",
            "Tweets 760000 of 800000 has been processed\n",
            "Tweets 770000 of 800000 has been processed\n",
            "Tweets 780000 of 800000 has been processed\n",
            "Tweets 790000 of 800000 has been processed\n",
            "Tweets 800000 of 800000 has been processed\n",
            "CPU times: user 2min 3s, sys: 6.79 s, total: 2min 10s\n",
            "Wall time: 2min 10s\n"
          ],
          "name": "stdout"
        }
      ]
    },
    {
      "cell_type": "code",
      "metadata": {
        "id": "B8tUSHUTpw2Z",
        "colab_type": "code",
        "outputId": "55753705-3bd1-4a9a-b046-98c180678783",
        "colab": {
          "base_uri": "https://localhost:8080/",
          "height": 34
        }
      },
      "source": [
        "len(clean_tweet_texts)"
      ],
      "execution_count": 0,
      "outputs": [
        {
          "output_type": "execute_result",
          "data": {
            "text/plain": [
              "800000"
            ]
          },
          "metadata": {
            "tags": []
          },
          "execution_count": 194
        }
      ]
    },
    {
      "cell_type": "code",
      "metadata": {
        "id": "1_XKEgv-pw47",
        "colab_type": "code",
        "outputId": "81aee03a-2649-4600-e276-67fbed9304a9",
        "colab": {
          "base_uri": "https://localhost:8080/",
          "height": 765
        }
      },
      "source": [
        "%%time\n",
        "print(\"Cleaning and parsing the tweets...\\n\")\n",
        "for i in range(nums[2],nums[3]):\n",
        "    if( (i+1)%10000 == 0 ):\n",
        "        print(\"Tweets %d of %d has been processed\" % ( i+1, nums[3] ))                                                                    \n",
        "    clean_tweet_texts.append(tweet_cleaner(df['text'][i]))"
      ],
      "execution_count": 0,
      "outputs": [
        {
          "output_type": "stream",
          "text": [
            "Cleaning and parsing the tweets...\n",
            "\n",
            "Tweets 810000 of 1200000 has been processed\n",
            "Tweets 820000 of 1200000 has been processed\n",
            "Tweets 830000 of 1200000 has been processed\n",
            "Tweets 840000 of 1200000 has been processed\n",
            "Tweets 850000 of 1200000 has been processed\n",
            "Tweets 860000 of 1200000 has been processed\n",
            "Tweets 870000 of 1200000 has been processed\n",
            "Tweets 880000 of 1200000 has been processed\n",
            "Tweets 890000 of 1200000 has been processed\n",
            "Tweets 900000 of 1200000 has been processed\n",
            "Tweets 910000 of 1200000 has been processed\n",
            "Tweets 920000 of 1200000 has been processed\n",
            "Tweets 930000 of 1200000 has been processed\n",
            "Tweets 940000 of 1200000 has been processed\n",
            "Tweets 950000 of 1200000 has been processed\n",
            "Tweets 960000 of 1200000 has been processed\n",
            "Tweets 970000 of 1200000 has been processed\n",
            "Tweets 980000 of 1200000 has been processed\n",
            "Tweets 990000 of 1200000 has been processed\n",
            "Tweets 1000000 of 1200000 has been processed\n",
            "Tweets 1010000 of 1200000 has been processed\n",
            "Tweets 1020000 of 1200000 has been processed\n",
            "Tweets 1030000 of 1200000 has been processed\n",
            "Tweets 1040000 of 1200000 has been processed\n",
            "Tweets 1050000 of 1200000 has been processed\n",
            "Tweets 1060000 of 1200000 has been processed\n",
            "Tweets 1070000 of 1200000 has been processed\n",
            "Tweets 1080000 of 1200000 has been processed\n",
            "Tweets 1090000 of 1200000 has been processed\n",
            "Tweets 1100000 of 1200000 has been processed\n",
            "Tweets 1110000 of 1200000 has been processed\n",
            "Tweets 1120000 of 1200000 has been processed\n",
            "Tweets 1130000 of 1200000 has been processed\n",
            "Tweets 1140000 of 1200000 has been processed\n",
            "Tweets 1150000 of 1200000 has been processed\n",
            "Tweets 1160000 of 1200000 has been processed\n",
            "Tweets 1170000 of 1200000 has been processed\n",
            "Tweets 1180000 of 1200000 has been processed\n",
            "Tweets 1190000 of 1200000 has been processed\n",
            "Tweets 1200000 of 1200000 has been processed\n",
            "CPU times: user 2min 3s, sys: 7.25 s, total: 2min 10s\n",
            "Wall time: 2min 10s\n"
          ],
          "name": "stdout"
        }
      ]
    },
    {
      "cell_type": "code",
      "metadata": {
        "id": "rEoxMpJVpw7Y",
        "colab_type": "code",
        "outputId": "7b3d5e19-da1b-46af-8441-b7a6b6798910",
        "colab": {
          "base_uri": "https://localhost:8080/",
          "height": 34
        }
      },
      "source": [
        "len(clean_tweet_texts)"
      ],
      "execution_count": 0,
      "outputs": [
        {
          "output_type": "execute_result",
          "data": {
            "text/plain": [
              "1200000"
            ]
          },
          "metadata": {
            "tags": []
          },
          "execution_count": 196
        }
      ]
    },
    {
      "cell_type": "code",
      "metadata": {
        "id": "gVHmH01wpw-G",
        "colab_type": "code",
        "outputId": "5b9dfa9e-e534-4a75-e0ff-b1fa618e0e10",
        "colab": {
          "base_uri": "https://localhost:8080/",
          "height": 765
        }
      },
      "source": [
        "%%time\n",
        "print (\"Cleaning and parsing the tweets...\\n\")\n",
        "for i in range(nums[3],nums[4]):\n",
        "    if( (i+1)%10000 == 0 ):\n",
        "        print (\"Tweets %d of %d has been processed\" % ( i+1, nums[4] ))                                                                    \n",
        "    clean_tweet_texts.append(tweet_cleaner(df['text'][i]))"
      ],
      "execution_count": 0,
      "outputs": [
        {
          "output_type": "stream",
          "text": [
            "Cleaning and parsing the tweets...\n",
            "\n",
            "Tweets 1210000 of 1600000 has been processed\n",
            "Tweets 1220000 of 1600000 has been processed\n",
            "Tweets 1230000 of 1600000 has been processed\n",
            "Tweets 1240000 of 1600000 has been processed\n",
            "Tweets 1250000 of 1600000 has been processed\n",
            "Tweets 1260000 of 1600000 has been processed\n",
            "Tweets 1270000 of 1600000 has been processed\n",
            "Tweets 1280000 of 1600000 has been processed\n",
            "Tweets 1290000 of 1600000 has been processed\n",
            "Tweets 1300000 of 1600000 has been processed\n",
            "Tweets 1310000 of 1600000 has been processed\n",
            "Tweets 1320000 of 1600000 has been processed\n",
            "Tweets 1330000 of 1600000 has been processed\n",
            "Tweets 1340000 of 1600000 has been processed\n",
            "Tweets 1350000 of 1600000 has been processed\n",
            "Tweets 1360000 of 1600000 has been processed\n",
            "Tweets 1370000 of 1600000 has been processed\n",
            "Tweets 1380000 of 1600000 has been processed\n",
            "Tweets 1390000 of 1600000 has been processed\n",
            "Tweets 1400000 of 1600000 has been processed\n",
            "Tweets 1410000 of 1600000 has been processed\n",
            "Tweets 1420000 of 1600000 has been processed\n",
            "Tweets 1430000 of 1600000 has been processed\n",
            "Tweets 1440000 of 1600000 has been processed\n",
            "Tweets 1450000 of 1600000 has been processed\n",
            "Tweets 1460000 of 1600000 has been processed\n",
            "Tweets 1470000 of 1600000 has been processed\n",
            "Tweets 1480000 of 1600000 has been processed\n",
            "Tweets 1490000 of 1600000 has been processed\n",
            "Tweets 1500000 of 1600000 has been processed\n",
            "Tweets 1510000 of 1600000 has been processed\n",
            "Tweets 1520000 of 1600000 has been processed\n",
            "Tweets 1530000 of 1600000 has been processed\n",
            "Tweets 1540000 of 1600000 has been processed\n",
            "Tweets 1550000 of 1600000 has been processed\n",
            "Tweets 1560000 of 1600000 has been processed\n",
            "Tweets 1570000 of 1600000 has been processed\n",
            "Tweets 1580000 of 1600000 has been processed\n",
            "Tweets 1590000 of 1600000 has been processed\n",
            "Tweets 1600000 of 1600000 has been processed\n",
            "CPU times: user 2min 2s, sys: 7.29 s, total: 2min 10s\n",
            "Wall time: 2min 10s\n"
          ],
          "name": "stdout"
        }
      ]
    },
    {
      "cell_type": "code",
      "metadata": {
        "id": "Why-BkpFpxAo",
        "colab_type": "code",
        "outputId": "ef8bfbef-f5b6-48cb-c973-473dd6271ff1",
        "colab": {
          "base_uri": "https://localhost:8080/",
          "height": 169
        }
      },
      "source": [
        "len(clean_tweet_texts)"
      ],
      "execution_count": 0,
      "outputs": [
        {
          "output_type": "error",
          "ename": "NameError",
          "evalue": "ignored",
          "traceback": [
            "\u001b[0;31m---------------------------------------------------------------------------\u001b[0m",
            "\u001b[0;31mNameError\u001b[0m                                 Traceback (most recent call last)",
            "\u001b[0;32m<ipython-input-15-c4d2691ad1cc>\u001b[0m in \u001b[0;36m<module>\u001b[0;34m()\u001b[0m\n\u001b[0;32m----> 1\u001b[0;31m \u001b[0mlen\u001b[0m\u001b[0;34m(\u001b[0m\u001b[0mclean_tweet_texts\u001b[0m\u001b[0;34m)\u001b[0m\u001b[0;34m\u001b[0m\u001b[0;34m\u001b[0m\u001b[0m\n\u001b[0m",
            "\u001b[0;31mNameError\u001b[0m: name 'clean_tweet_texts' is not defined"
          ]
        }
      ]
    },
    {
      "cell_type": "markdown",
      "metadata": {
        "id": "JO7hchbjqi5a",
        "colab_type": "text"
      },
      "source": [
        "## Save formatted data"
      ]
    },
    {
      "cell_type": "code",
      "metadata": {
        "id": "65QnHF7epxDk",
        "colab_type": "code",
        "outputId": "cd340c0b-9eef-44a8-8948-676cb209a7de",
        "colab": {
          "base_uri": "https://localhost:8080/",
          "height": 204
        }
      },
      "source": [
        "clean_df = pd.DataFrame(clean_tweet_texts,columns=['text'])\n",
        "clean_df['target'] = df.sentiment\n",
        "clean_df.head()"
      ],
      "execution_count": 0,
      "outputs": [
        {
          "output_type": "error",
          "ename": "NameError",
          "evalue": "ignored",
          "traceback": [
            "\u001b[0;31m---------------------------------------------------------------------------\u001b[0m",
            "\u001b[0;31mNameError\u001b[0m                                 Traceback (most recent call last)",
            "\u001b[0;32m<ipython-input-16-6430b2068bfd>\u001b[0m in \u001b[0;36m<module>\u001b[0;34m()\u001b[0m\n\u001b[0;32m----> 1\u001b[0;31m \u001b[0mclean_df\u001b[0m \u001b[0;34m=\u001b[0m \u001b[0mpd\u001b[0m\u001b[0;34m.\u001b[0m\u001b[0mDataFrame\u001b[0m\u001b[0;34m(\u001b[0m\u001b[0mclean_tweet_texts\u001b[0m\u001b[0;34m,\u001b[0m\u001b[0mcolumns\u001b[0m\u001b[0;34m=\u001b[0m\u001b[0;34m[\u001b[0m\u001b[0;34m'text'\u001b[0m\u001b[0;34m]\u001b[0m\u001b[0;34m)\u001b[0m\u001b[0;34m\u001b[0m\u001b[0;34m\u001b[0m\u001b[0m\n\u001b[0m\u001b[1;32m      2\u001b[0m \u001b[0mclean_df\u001b[0m\u001b[0;34m[\u001b[0m\u001b[0;34m'target'\u001b[0m\u001b[0;34m]\u001b[0m \u001b[0;34m=\u001b[0m \u001b[0mdf\u001b[0m\u001b[0;34m.\u001b[0m\u001b[0msentiment\u001b[0m\u001b[0;34m\u001b[0m\u001b[0;34m\u001b[0m\u001b[0m\n\u001b[1;32m      3\u001b[0m \u001b[0mclean_df\u001b[0m\u001b[0;34m.\u001b[0m\u001b[0mhead\u001b[0m\u001b[0;34m(\u001b[0m\u001b[0;34m)\u001b[0m\u001b[0;34m\u001b[0m\u001b[0;34m\u001b[0m\u001b[0m\n",
            "\u001b[0;31mNameError\u001b[0m: name 'clean_tweet_texts' is not defined"
          ]
        }
      ]
    },
    {
      "cell_type": "code",
      "metadata": {
        "id": "zh0ZN03BpxGe",
        "colab_type": "code",
        "colab": {}
      },
      "source": [
        "clean_df.to_csv('clean_tweet.csv',encoding='utf-8')"
      ],
      "execution_count": 0,
      "outputs": []
    },
    {
      "cell_type": "code",
      "metadata": {
        "id": "zIw4_MOwpxJR",
        "colab_type": "code",
        "outputId": "01cef092-bc1f-4000-8bd1-17035faecce7",
        "colab": {
          "base_uri": "https://localhost:8080/",
          "height": 436
        }
      },
      "source": [
        "import pandas as pd\n",
        "csv = 'clean_tweet.csv'\n",
        "my_df = pd.read_csv(csv,index_col=0)\n",
        "my_df.head()"
      ],
      "execution_count": 0,
      "outputs": [
        {
          "output_type": "error",
          "ename": "FileNotFoundError",
          "evalue": "ignored",
          "traceback": [
            "\u001b[0;31m---------------------------------------------------------------------------\u001b[0m",
            "\u001b[0;31mFileNotFoundError\u001b[0m                         Traceback (most recent call last)",
            "\u001b[0;32m<ipython-input-17-2dd585a3d9ba>\u001b[0m in \u001b[0;36m<module>\u001b[0;34m()\u001b[0m\n\u001b[1;32m      1\u001b[0m \u001b[0;32mimport\u001b[0m \u001b[0mpandas\u001b[0m \u001b[0;32mas\u001b[0m \u001b[0mpd\u001b[0m\u001b[0;34m\u001b[0m\u001b[0;34m\u001b[0m\u001b[0m\n\u001b[1;32m      2\u001b[0m \u001b[0mcsv\u001b[0m \u001b[0;34m=\u001b[0m \u001b[0;34m'clean_tweet.csv'\u001b[0m\u001b[0;34m\u001b[0m\u001b[0;34m\u001b[0m\u001b[0m\n\u001b[0;32m----> 3\u001b[0;31m \u001b[0mmy_df\u001b[0m \u001b[0;34m=\u001b[0m \u001b[0mpd\u001b[0m\u001b[0;34m.\u001b[0m\u001b[0mread_csv\u001b[0m\u001b[0;34m(\u001b[0m\u001b[0mcsv\u001b[0m\u001b[0;34m,\u001b[0m\u001b[0mindex_col\u001b[0m\u001b[0;34m=\u001b[0m\u001b[0;36m0\u001b[0m\u001b[0;34m)\u001b[0m\u001b[0;34m\u001b[0m\u001b[0;34m\u001b[0m\u001b[0m\n\u001b[0m\u001b[1;32m      4\u001b[0m \u001b[0mmy_df\u001b[0m\u001b[0;34m.\u001b[0m\u001b[0mhead\u001b[0m\u001b[0;34m(\u001b[0m\u001b[0;34m)\u001b[0m\u001b[0;34m\u001b[0m\u001b[0;34m\u001b[0m\u001b[0m\n",
            "\u001b[0;32m/usr/local/lib/python3.6/dist-packages/pandas/io/parsers.py\u001b[0m in \u001b[0;36mparser_f\u001b[0;34m(filepath_or_buffer, sep, delimiter, header, names, index_col, usecols, squeeze, prefix, mangle_dupe_cols, dtype, engine, converters, true_values, false_values, skipinitialspace, skiprows, skipfooter, nrows, na_values, keep_default_na, na_filter, verbose, skip_blank_lines, parse_dates, infer_datetime_format, keep_date_col, date_parser, dayfirst, iterator, chunksize, compression, thousands, decimal, lineterminator, quotechar, quoting, doublequote, escapechar, comment, encoding, dialect, tupleize_cols, error_bad_lines, warn_bad_lines, delim_whitespace, low_memory, memory_map, float_precision)\u001b[0m\n\u001b[1;32m    700\u001b[0m                     skip_blank_lines=skip_blank_lines)\n\u001b[1;32m    701\u001b[0m \u001b[0;34m\u001b[0m\u001b[0m\n\u001b[0;32m--> 702\u001b[0;31m         \u001b[0;32mreturn\u001b[0m \u001b[0m_read\u001b[0m\u001b[0;34m(\u001b[0m\u001b[0mfilepath_or_buffer\u001b[0m\u001b[0;34m,\u001b[0m \u001b[0mkwds\u001b[0m\u001b[0;34m)\u001b[0m\u001b[0;34m\u001b[0m\u001b[0;34m\u001b[0m\u001b[0m\n\u001b[0m\u001b[1;32m    703\u001b[0m \u001b[0;34m\u001b[0m\u001b[0m\n\u001b[1;32m    704\u001b[0m     \u001b[0mparser_f\u001b[0m\u001b[0;34m.\u001b[0m\u001b[0m__name__\u001b[0m \u001b[0;34m=\u001b[0m \u001b[0mname\u001b[0m\u001b[0;34m\u001b[0m\u001b[0;34m\u001b[0m\u001b[0m\n",
            "\u001b[0;32m/usr/local/lib/python3.6/dist-packages/pandas/io/parsers.py\u001b[0m in \u001b[0;36m_read\u001b[0;34m(filepath_or_buffer, kwds)\u001b[0m\n\u001b[1;32m    427\u001b[0m \u001b[0;34m\u001b[0m\u001b[0m\n\u001b[1;32m    428\u001b[0m     \u001b[0;31m# Create the parser.\u001b[0m\u001b[0;34m\u001b[0m\u001b[0;34m\u001b[0m\u001b[0;34m\u001b[0m\u001b[0m\n\u001b[0;32m--> 429\u001b[0;31m     \u001b[0mparser\u001b[0m \u001b[0;34m=\u001b[0m \u001b[0mTextFileReader\u001b[0m\u001b[0;34m(\u001b[0m\u001b[0mfilepath_or_buffer\u001b[0m\u001b[0;34m,\u001b[0m \u001b[0;34m**\u001b[0m\u001b[0mkwds\u001b[0m\u001b[0;34m)\u001b[0m\u001b[0;34m\u001b[0m\u001b[0;34m\u001b[0m\u001b[0m\n\u001b[0m\u001b[1;32m    430\u001b[0m \u001b[0;34m\u001b[0m\u001b[0m\n\u001b[1;32m    431\u001b[0m     \u001b[0;32mif\u001b[0m \u001b[0mchunksize\u001b[0m \u001b[0;32mor\u001b[0m \u001b[0miterator\u001b[0m\u001b[0;34m:\u001b[0m\u001b[0;34m\u001b[0m\u001b[0;34m\u001b[0m\u001b[0m\n",
            "\u001b[0;32m/usr/local/lib/python3.6/dist-packages/pandas/io/parsers.py\u001b[0m in \u001b[0;36m__init__\u001b[0;34m(self, f, engine, **kwds)\u001b[0m\n\u001b[1;32m    893\u001b[0m             \u001b[0mself\u001b[0m\u001b[0;34m.\u001b[0m\u001b[0moptions\u001b[0m\u001b[0;34m[\u001b[0m\u001b[0;34m'has_index_names'\u001b[0m\u001b[0;34m]\u001b[0m \u001b[0;34m=\u001b[0m \u001b[0mkwds\u001b[0m\u001b[0;34m[\u001b[0m\u001b[0;34m'has_index_names'\u001b[0m\u001b[0;34m]\u001b[0m\u001b[0;34m\u001b[0m\u001b[0;34m\u001b[0m\u001b[0m\n\u001b[1;32m    894\u001b[0m \u001b[0;34m\u001b[0m\u001b[0m\n\u001b[0;32m--> 895\u001b[0;31m         \u001b[0mself\u001b[0m\u001b[0;34m.\u001b[0m\u001b[0m_make_engine\u001b[0m\u001b[0;34m(\u001b[0m\u001b[0mself\u001b[0m\u001b[0;34m.\u001b[0m\u001b[0mengine\u001b[0m\u001b[0;34m)\u001b[0m\u001b[0;34m\u001b[0m\u001b[0;34m\u001b[0m\u001b[0m\n\u001b[0m\u001b[1;32m    896\u001b[0m \u001b[0;34m\u001b[0m\u001b[0m\n\u001b[1;32m    897\u001b[0m     \u001b[0;32mdef\u001b[0m \u001b[0mclose\u001b[0m\u001b[0;34m(\u001b[0m\u001b[0mself\u001b[0m\u001b[0;34m)\u001b[0m\u001b[0;34m:\u001b[0m\u001b[0;34m\u001b[0m\u001b[0;34m\u001b[0m\u001b[0m\n",
            "\u001b[0;32m/usr/local/lib/python3.6/dist-packages/pandas/io/parsers.py\u001b[0m in \u001b[0;36m_make_engine\u001b[0;34m(self, engine)\u001b[0m\n\u001b[1;32m   1120\u001b[0m     \u001b[0;32mdef\u001b[0m \u001b[0m_make_engine\u001b[0m\u001b[0;34m(\u001b[0m\u001b[0mself\u001b[0m\u001b[0;34m,\u001b[0m \u001b[0mengine\u001b[0m\u001b[0;34m=\u001b[0m\u001b[0;34m'c'\u001b[0m\u001b[0;34m)\u001b[0m\u001b[0;34m:\u001b[0m\u001b[0;34m\u001b[0m\u001b[0;34m\u001b[0m\u001b[0m\n\u001b[1;32m   1121\u001b[0m         \u001b[0;32mif\u001b[0m \u001b[0mengine\u001b[0m \u001b[0;34m==\u001b[0m \u001b[0;34m'c'\u001b[0m\u001b[0;34m:\u001b[0m\u001b[0;34m\u001b[0m\u001b[0;34m\u001b[0m\u001b[0m\n\u001b[0;32m-> 1122\u001b[0;31m             \u001b[0mself\u001b[0m\u001b[0;34m.\u001b[0m\u001b[0m_engine\u001b[0m \u001b[0;34m=\u001b[0m \u001b[0mCParserWrapper\u001b[0m\u001b[0;34m(\u001b[0m\u001b[0mself\u001b[0m\u001b[0;34m.\u001b[0m\u001b[0mf\u001b[0m\u001b[0;34m,\u001b[0m \u001b[0;34m**\u001b[0m\u001b[0mself\u001b[0m\u001b[0;34m.\u001b[0m\u001b[0moptions\u001b[0m\u001b[0;34m)\u001b[0m\u001b[0;34m\u001b[0m\u001b[0;34m\u001b[0m\u001b[0m\n\u001b[0m\u001b[1;32m   1123\u001b[0m         \u001b[0;32melse\u001b[0m\u001b[0;34m:\u001b[0m\u001b[0;34m\u001b[0m\u001b[0;34m\u001b[0m\u001b[0m\n\u001b[1;32m   1124\u001b[0m             \u001b[0;32mif\u001b[0m \u001b[0mengine\u001b[0m \u001b[0;34m==\u001b[0m \u001b[0;34m'python'\u001b[0m\u001b[0;34m:\u001b[0m\u001b[0;34m\u001b[0m\u001b[0;34m\u001b[0m\u001b[0m\n",
            "\u001b[0;32m/usr/local/lib/python3.6/dist-packages/pandas/io/parsers.py\u001b[0m in \u001b[0;36m__init__\u001b[0;34m(self, src, **kwds)\u001b[0m\n\u001b[1;32m   1851\u001b[0m         \u001b[0mkwds\u001b[0m\u001b[0;34m[\u001b[0m\u001b[0;34m'usecols'\u001b[0m\u001b[0;34m]\u001b[0m \u001b[0;34m=\u001b[0m \u001b[0mself\u001b[0m\u001b[0;34m.\u001b[0m\u001b[0musecols\u001b[0m\u001b[0;34m\u001b[0m\u001b[0;34m\u001b[0m\u001b[0m\n\u001b[1;32m   1852\u001b[0m \u001b[0;34m\u001b[0m\u001b[0m\n\u001b[0;32m-> 1853\u001b[0;31m         \u001b[0mself\u001b[0m\u001b[0;34m.\u001b[0m\u001b[0m_reader\u001b[0m \u001b[0;34m=\u001b[0m \u001b[0mparsers\u001b[0m\u001b[0;34m.\u001b[0m\u001b[0mTextReader\u001b[0m\u001b[0;34m(\u001b[0m\u001b[0msrc\u001b[0m\u001b[0;34m,\u001b[0m \u001b[0;34m**\u001b[0m\u001b[0mkwds\u001b[0m\u001b[0;34m)\u001b[0m\u001b[0;34m\u001b[0m\u001b[0;34m\u001b[0m\u001b[0m\n\u001b[0m\u001b[1;32m   1854\u001b[0m         \u001b[0mself\u001b[0m\u001b[0;34m.\u001b[0m\u001b[0munnamed_cols\u001b[0m \u001b[0;34m=\u001b[0m \u001b[0mself\u001b[0m\u001b[0;34m.\u001b[0m\u001b[0m_reader\u001b[0m\u001b[0;34m.\u001b[0m\u001b[0munnamed_cols\u001b[0m\u001b[0;34m\u001b[0m\u001b[0;34m\u001b[0m\u001b[0m\n\u001b[1;32m   1855\u001b[0m \u001b[0;34m\u001b[0m\u001b[0m\n",
            "\u001b[0;32mpandas/_libs/parsers.pyx\u001b[0m in \u001b[0;36mpandas._libs.parsers.TextReader.__cinit__\u001b[0;34m()\u001b[0m\n",
            "\u001b[0;32mpandas/_libs/parsers.pyx\u001b[0m in \u001b[0;36mpandas._libs.parsers.TextReader._setup_parser_source\u001b[0;34m()\u001b[0m\n",
            "\u001b[0;31mFileNotFoundError\u001b[0m: [Errno 2] File b'clean_tweet.csv' does not exist: b'clean_tweet.csv'"
          ]
        }
      ]
    },
    {
      "cell_type": "code",
      "metadata": {
        "id": "4dlpnnSEpxPK",
        "colab_type": "code",
        "colab": {}
      },
      "source": [
        "import tweepy\n",
        "import hidden\n",
        "import sqlite3\n",
        "from langdetect import detect"
      ],
      "execution_count": 0,
      "outputs": []
    },
    {
      "cell_type": "code",
      "metadata": {
        "id": "hggQ_EIupxR-",
        "colab_type": "code",
        "colab": {}
      },
      "source": [
        "\n",
        "\n",
        "auth = tweepy.OAuthHandler(hidden.consumer_key, hidden.consumer_secret)\n",
        "auth.set_access_token(hidden.token_key, hidden.token_secret)\n",
        "api = tweepy.API(auth)\n",
        "\n"
      ],
      "execution_count": 0,
      "outputs": []
    },
    {
      "cell_type": "code",
      "metadata": {
        "id": "KVAp7e8rKKUJ",
        "colab_type": "code",
        "colab": {}
      },
      "source": [
        "places = api.geo_search(query=\"London\", granularity=\"city\")\n",
        "\n",
        "place_id_L = places[0].id\n",
        "print('London id is: ',place_id_L)\n"
      ],
      "execution_count": 0,
      "outputs": []
    },
    {
      "cell_type": "code",
      "metadata": {
        "id": "EuryW8p_pxm6",
        "colab_type": "code",
        "colab": {}
      },
      "source": [
        "places = api.geo_search(query=\"Brighton\", granularity=\"city\")\n",
        "\n",
        "place_id_B = places[0].id\n",
        "print('Brighton id is: ',place_id_B)\n"
      ],
      "execution_count": 0,
      "outputs": []
    },
    {
      "cell_type": "code",
      "metadata": {
        "id": "6eeG_Tdvpxkw",
        "colab_type": "code",
        "colab": {}
      },
      "source": [
        "places = api.geo_search(query=\"Edinburgh\", granularity=\"city\")\n",
        "\n",
        "place_id_E = places[0].id\n",
        "print('Edinburgh id is: ',place_id_E)"
      ],
      "execution_count": 0,
      "outputs": []
    },
    {
      "cell_type": "code",
      "metadata": {
        "id": "72X_PgV5pxiT",
        "colab_type": "code",
        "colab": {}
      },
      "source": [
        "maxitems = 10\n",
        "print \"London tweets retrieve testing\"\n",
        "print '----------------------------------'\n",
        "for tweet in tweepy.Cursor(api.search, q=\"place:%s\" % place_id_L).items(maxitems):\n",
        "    print tweet.text"
      ],
      "execution_count": 0,
      "outputs": []
    },
    {
      "cell_type": "code",
      "metadata": {
        "id": "tnL7v6ixpxga",
        "colab_type": "code",
        "colab": {}
      },
      "source": [
        "maxitems = 10\n",
        "print \"Brighton tweets retrieve testing\"\n",
        "print '----------------------------------'\n",
        "for tweet in tweepy.Cursor(api.search, q=\"place:%s\" % place_id_B).items(maxitems):\n",
        "    print tweet.text"
      ],
      "execution_count": 0,
      "outputs": []
    },
    {
      "cell_type": "code",
      "metadata": {
        "id": "PaJf-aXVpxe5",
        "colab_type": "code",
        "colab": {}
      },
      "source": [
        "maxitems = 10\n",
        "print \"Edinburgh tweets retrieve testing\"\n",
        "print '---------------------------------'\n",
        "for tweet in tweepy.Cursor(api.search, q=\"place:%s\" % place_id_E).items(maxitems):\n",
        "    print tweet.text\n"
      ],
      "execution_count": 0,
      "outputs": []
    },
    {
      "cell_type": "code",
      "metadata": {
        "id": "g3OhABU8pxdc",
        "colab_type": "code",
        "colab": {}
      },
      "source": [
        "conn = sqlite3.connect('twitter_testing.sqlite')\n",
        "cur = conn.cursor()\n",
        "cur.executescript('''\n",
        "\n",
        "CREATE TABLE Tweets_London (\n",
        "    id     INTEGER NOT NULL PRIMARY KEY AUTOINCREMENT UNIQUE,\n",
        "    user_id TEXT,\n",
        "    user_name TEXT,\n",
        "    user_timezone TEXT,\n",
        "    user_language TEXT,\n",
        "    detected_language TEXT,\n",
        "    tweet_text  TEXT,\n",
        "    tweet_created TEXT\n",
        ")\n",
        "''')"
      ],
      "execution_count": 0,
      "outputs": []
    },
    {
      "cell_type": "code",
      "metadata": {
        "id": "qv7TcRgdpxb8",
        "colab_type": "code",
        "colab": {}
      },
      "source": [
        "for tweet in tweepy.Cursor(api.search, q=\"place:%s\" % place_id_L).items(maxitems):\n",
        "    detected = detect(tweet.text)\n",
        "    cur.execute('''INSERT OR IGNORE INTO Tweets_London (\n",
        "        user_id, user_name, user_timezone, user_language, detected_language, tweet_text, tweet_created\n",
        "        ) \n",
        "    VALUES ( ?,?,?,?,?,?,? )''', (tweet.user.id,tweet.user.screen_name,tweet.user.time_zone,tweet.user.lang,detected,tweet.text,tweet.created_at))\n",
        "    conn.commit()\n"
      ],
      "execution_count": 0,
      "outputs": []
    },
    {
      "cell_type": "code",
      "metadata": {
        "id": "XScB3siLpxaK",
        "colab_type": "code",
        "colab": {}
      },
      "source": [
        "from_sql = pd.read_sql_query(\"SELECT * FROM Tweets_London;\", conn)"
      ],
      "execution_count": 0,
      "outputs": []
    },
    {
      "cell_type": "code",
      "metadata": {
        "id": "CYyrttSYpxYs",
        "colab_type": "code",
        "outputId": "b3aedaba-20d8-4ccd-ccaf-831af4a86686",
        "colab": {
          "base_uri": "https://localhost:8080/",
          "height": 215
        }
      },
      "source": [
        "\n",
        "\n",
        "from_sql\n",
        "\n"
      ],
      "execution_count": 0,
      "outputs": [
        {
          "output_type": "error",
          "ename": "NameError",
          "evalue": "ignored",
          "traceback": [
            "\u001b[0;31m---------------------------------------------------------------------------\u001b[0m",
            "\u001b[0;31mNameError\u001b[0m                                 Traceback (most recent call last)",
            "\u001b[0;32m<ipython-input-1-82ca6c4f6a2e>\u001b[0m in \u001b[0;36m<module>\u001b[0;34m()\u001b[0m\n\u001b[1;32m      1\u001b[0m \u001b[0;34m\u001b[0m\u001b[0m\n\u001b[1;32m      2\u001b[0m \u001b[0;34m\u001b[0m\u001b[0m\n\u001b[0;32m----> 3\u001b[0;31m \u001b[0mfrom_sql\u001b[0m\u001b[0;34m\u001b[0m\u001b[0;34m\u001b[0m\u001b[0m\n\u001b[0m\u001b[1;32m      4\u001b[0m \u001b[0;34m\u001b[0m\u001b[0m\n",
            "\u001b[0;31mNameError\u001b[0m: name 'from_sql' is not defined"
          ]
        }
      ]
    },
    {
      "cell_type": "code",
      "metadata": {
        "id": "dIytYk6ppxXS",
        "colab_type": "code",
        "colab": {}
      },
      "source": [
        ""
      ],
      "execution_count": 0,
      "outputs": []
    },
    {
      "cell_type": "code",
      "metadata": {
        "id": "vv3vCA0_pxV1",
        "colab_type": "code",
        "colab": {}
      },
      "source": [
        ""
      ],
      "execution_count": 0,
      "outputs": []
    },
    {
      "cell_type": "code",
      "metadata": {
        "id": "GdlrV6depxUZ",
        "colab_type": "code",
        "colab": {}
      },
      "source": [
        ""
      ],
      "execution_count": 0,
      "outputs": []
    }
  ]
}