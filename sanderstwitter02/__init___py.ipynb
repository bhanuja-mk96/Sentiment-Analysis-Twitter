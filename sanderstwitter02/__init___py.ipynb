{
  "nbformat": 4,
  "nbformat_minor": 0,
  "metadata": {
    "colab": {
      "name": "__init__.py",
      "version": "0.3.2",
      "provenance": [],
      "include_colab_link": true
    },
    "kernelspec": {
      "name": "python2",
      "display_name": "Python 2"
    }
  },
  "cells": [
    {
      "cell_type": "markdown",
      "metadata": {
        "id": "view-in-github",
        "colab_type": "text"
      },
      "source": [
        "<a href=\"https://colab.research.google.com/github/bhanuja-mk96/Sentiment-Analysis-Twitter/blob/master/__init___py.ipynb\" target=\"_parent\"><img src=\"https://colab.research.google.com/assets/colab-badge.svg\" alt=\"Open In Colab\"/></a>"
      ]
    },
    {
      "metadata": {
        "id": "HbT3c0dXnfb6",
        "colab_type": "code",
        "colab": {}
      },
      "cell_type": "code",
      "source": [
        "import csv"
      ],
      "execution_count": 0,
      "outputs": []
    },
    {
      "metadata": {
        "id": "EWrSH5ncnlP0",
        "colab_type": "code",
        "colab": {}
      },
      "cell_type": "code",
      "source": [
        "queryTerms = {\\\n",
        "                'apple'     : ['@apple',    ],  \\\n",
        "                'microsoft' : ['#microsoft', ], \\\n",
        "                'google'    : ['#google', ],    \\\n",
        "                'twitter'   : ['#twitter', ],    \\\n",
        "}"
      ],
      "execution_count": 0,
      "outputs": []
    },
    {
      "metadata": {
        "id": "ajI-QiIbnqd2",
        "colab_type": "code",
        "colab": {}
      },
      "cell_type": "code",
      "source": [
        "def getTweetsRawData( fileName ):\n",
        "    # read all tweets and labels\n",
        "    fp = open( fileName, 'rb' )\n",
        "    reader = csv.reader( fp, delimiter=',', quotechar='\"', escapechar='\\\\' )\n",
        "    tweets = []\n",
        "    for row in reader:\n",
        "        tweets.append( [row[4], row[1], row[0], queryTerms[(row[0]).lower()] ] )\n",
        "    # treat neutral and irrelevant the same\n",
        "    for t in tweets:\n",
        "        if (t[1] == 'positive'):\n",
        "            t[1] = 'pos'\n",
        "        elif (t[1] == 'negative'):\n",
        "            t[1] = 'neg'\n",
        "        elif (t[1] == 'irrelevant')|(t[1] == 'neutral'):\n",
        "            t[1] = 'neu'\n",
        "\n",
        "    return tweets # 0: Text # 1: class # 2: subject # 3: query\n",
        "\n",
        "SampleTweetsStats = '''\n",
        "   Class    Count Example\n",
        "     neg      529 #Skype often crashing: #microsoft, what are you doing?\n",
        "     neu     3770 How #Google Ventures Chooses Which Startups Get Its $200 Million http://t.co/FCWXoUd8 via @mashbusiness @mashable\n",
        "     pos      483 Now all @Apple has to do is get swype on the iphone and it will be crack. Iphone that is\n",
        "'''"
      ],
      "execution_count": 0,
      "outputs": []
    }
  ]
}
